{
 "cells": [
  {
   "cell_type": "markdown",
   "metadata": {},
   "source": [
    "### Setting up runtime"
   ]
  },
  {
   "cell_type": "code",
   "execution_count": null,
   "metadata": {
    "scrolled": true
   },
   "outputs": [],
   "source": [
    "!pip install pandas matplotlib"
   ]
  },
  {
   "cell_type": "code",
   "execution_count": null,
   "metadata": {},
   "outputs": [],
   "source": [
    "!pip install -U scikit-learn"
   ]
  },
  {
   "cell_type": "code",
   "execution_count": null,
   "metadata": {
    "scrolled": true
   },
   "outputs": [],
   "source": [
    "!pip install seaborn"
   ]
  },
  {
   "cell_type": "code",
   "execution_count": 6,
   "metadata": {},
   "outputs": [],
   "source": [
    "from user_agents import parse\n",
    "import pandas as pd\n",
    "import numpy as np\n",
    "import matplotlib.pyplot as plt\n",
    "import re\n",
    "import seaborn as sns\n",
    "from textwrap import wrap\n",
    "from sklearn.preprocessing import OneHotEncoder\n",
    "from sklearn.svm import OneClassSVM\n",
    "import joblib"
   ]
  },
  {
   "cell_type": "markdown",
   "metadata": {},
   "source": [
    "### Loading Data"
   ]
  },
  {
   "cell_type": "code",
   "execution_count": 17,
   "metadata": {},
   "outputs": [],
   "source": [
    "f=open('../../../Downloads/benign/BlueCoat_Large.webgateway')"
   ]
  },
  {
   "cell_type": "code",
   "execution_count": 18,
   "metadata": {},
   "outputs": [
    {
     "name": "stdout",
     "output_type": "stream",
     "text": [
      "[02/Aug/2011:22:00:00 -0700] \"user_1\" 0.0.0.0 0.0.0.0  9080 200 TCP_HIT \"GET http://games.maktoob.com/smart/gamesCH1/gimages/smart1040.jpeg HTTP/1.0\" \"unknown\"  \"low risk\" \"image/jpeg\" 2370 409 \"Mozilla/5.0 (Windows; U; Windows NT 5.1; en-US) AppleWebKit/534.10 (KHTML, like Gecko) Chrome/8.0.552.237 Safari/534.10\" \"i1.makcdn.com\" \"-\" \"0\" \"\" \"-\"\n",
      "\n"
     ]
    }
   ],
   "source": [
    "print(f.readline())"
   ]
  },
  {
   "cell_type": "code",
   "execution_count": 19,
   "metadata": {},
   "outputs": [],
   "source": [
    "data =[]\n",
    "for x in f:\n",
    "    data.append(x)"
   ]
  },
  {
   "cell_type": "code",
   "execution_count": 20,
   "metadata": {},
   "outputs": [],
   "source": [
    "f.close()"
   ]
  },
  {
   "cell_type": "code",
   "execution_count": 21,
   "metadata": {},
   "outputs": [],
   "source": [
    "benign=pd.DataFrame(data)"
   ]
  },
  {
   "cell_type": "code",
   "execution_count": 22,
   "metadata": {},
   "outputs": [],
   "source": [
    "benign.columns=['user_agent']"
   ]
  },
  {
   "cell_type": "code",
   "execution_count": 8,
   "metadata": {
    "scrolled": true
   },
   "outputs": [
    {
     "data": {
      "text/html": [
       "<div>\n",
       "<style scoped>\n",
       "    .dataframe tbody tr th:only-of-type {\n",
       "        vertical-align: middle;\n",
       "    }\n",
       "\n",
       "    .dataframe tbody tr th {\n",
       "        vertical-align: top;\n",
       "    }\n",
       "\n",
       "    .dataframe thead th {\n",
       "        text-align: right;\n",
       "    }\n",
       "</style>\n",
       "<table border=\"1\" class=\"dataframe\">\n",
       "  <thead>\n",
       "    <tr style=\"text-align: right;\">\n",
       "      <th></th>\n",
       "      <th>user_agent</th>\n",
       "    </tr>\n",
       "  </thead>\n",
       "  <tbody>\n",
       "    <tr>\n",
       "      <th>0</th>\n",
       "      <td>[02/Aug/2011:22:00:00 -0700] \"user_2\" 0.0.0.0 ...</td>\n",
       "    </tr>\n",
       "    <tr>\n",
       "      <th>1</th>\n",
       "      <td>[02/Aug/2011:22:00:00 -0700] \"user_3\" 0.0.0.0 ...</td>\n",
       "    </tr>\n",
       "    <tr>\n",
       "      <th>2</th>\n",
       "      <td>[02/Aug/2011:22:00:00 -0700] \"user_4\" 0.0.0.0 ...</td>\n",
       "    </tr>\n",
       "    <tr>\n",
       "      <th>3</th>\n",
       "      <td>[02/Aug/2011:22:00:00 -0700] \"user_5\" 0.0.0.0 ...</td>\n",
       "    </tr>\n",
       "    <tr>\n",
       "      <th>4</th>\n",
       "      <td>[02/Aug/2011:22:00:00 -0700] \"user_6\" 0.0.0.0 ...</td>\n",
       "    </tr>\n",
       "  </tbody>\n",
       "</table>\n",
       "</div>"
      ],
      "text/plain": [
       "                                          user_agent\n",
       "0  [02/Aug/2011:22:00:00 -0700] \"user_2\" 0.0.0.0 ...\n",
       "1  [02/Aug/2011:22:00:00 -0700] \"user_3\" 0.0.0.0 ...\n",
       "2  [02/Aug/2011:22:00:00 -0700] \"user_4\" 0.0.0.0 ...\n",
       "3  [02/Aug/2011:22:00:00 -0700] \"user_5\" 0.0.0.0 ...\n",
       "4  [02/Aug/2011:22:00:00 -0700] \"user_6\" 0.0.0.0 ..."
      ]
     },
     "execution_count": 8,
     "metadata": {},
     "output_type": "execute_result"
    }
   ],
   "source": [
    "benign.head()"
   ]
  },
  {
   "cell_type": "code",
   "execution_count": 9,
   "metadata": {},
   "outputs": [
    {
     "data": {
      "text/html": [
       "<div>\n",
       "<style scoped>\n",
       "    .dataframe tbody tr th:only-of-type {\n",
       "        vertical-align: middle;\n",
       "    }\n",
       "\n",
       "    .dataframe tbody tr th {\n",
       "        vertical-align: top;\n",
       "    }\n",
       "\n",
       "    .dataframe thead th {\n",
       "        text-align: right;\n",
       "    }\n",
       "</style>\n",
       "<table border=\"1\" class=\"dataframe\">\n",
       "  <thead>\n",
       "    <tr style=\"text-align: right;\">\n",
       "      <th></th>\n",
       "      <th>user_agent</th>\n",
       "    </tr>\n",
       "  </thead>\n",
       "  <tbody>\n",
       "    <tr>\n",
       "      <th>1424284</th>\n",
       "      <td>[02/Aug/2011:23:27:37 -0700] \"user_425\" 0.0.0....</td>\n",
       "    </tr>\n",
       "    <tr>\n",
       "      <th>1424285</th>\n",
       "      <td>[02/Aug/2011:23:27:37 -0700] \"user_426\" 0.0.0....</td>\n",
       "    </tr>\n",
       "    <tr>\n",
       "      <th>1424286</th>\n",
       "      <td>[02/Aug/2011:23:27:37 -0700] \"user_427\" 0.0.0....</td>\n",
       "    </tr>\n",
       "    <tr>\n",
       "      <th>1424287</th>\n",
       "      <td>[02/Aug/2011:23:27:37 -0700] \"user_428\" 0.0.0....</td>\n",
       "    </tr>\n",
       "    <tr>\n",
       "      <th>1424288</th>\n",
       "      <td>[02/Aug/2011:23:27:37 -0700] \"user_429\" 0.0.0....</td>\n",
       "    </tr>\n",
       "  </tbody>\n",
       "</table>\n",
       "</div>"
      ],
      "text/plain": [
       "                                                user_agent\n",
       "1424284  [02/Aug/2011:23:27:37 -0700] \"user_425\" 0.0.0....\n",
       "1424285  [02/Aug/2011:23:27:37 -0700] \"user_426\" 0.0.0....\n",
       "1424286  [02/Aug/2011:23:27:37 -0700] \"user_427\" 0.0.0....\n",
       "1424287  [02/Aug/2011:23:27:37 -0700] \"user_428\" 0.0.0....\n",
       "1424288  [02/Aug/2011:23:27:37 -0700] \"user_429\" 0.0.0...."
      ]
     },
     "execution_count": 9,
     "metadata": {},
     "output_type": "execute_result"
    }
   ],
   "source": [
    "benign.tail()"
   ]
  },
  {
   "cell_type": "markdown",
   "metadata": {},
   "source": [
    "### Data wrangling and sampling"
   ]
  },
  {
   "cell_type": "code",
   "execution_count": 10,
   "metadata": {},
   "outputs": [],
   "source": [
    "a=parse(benign['user_agent'][3])"
   ]
  },
  {
   "cell_type": "code",
   "execution_count": 12,
   "metadata": {},
   "outputs": [
    {
     "data": {
      "text/plain": [
       "'Other'"
      ]
     },
     "execution_count": 12,
     "metadata": {},
     "output_type": "execute_result"
    }
   ],
   "source": [
    "a.browser.family"
   ]
  },
  {
   "cell_type": "code",
   "execution_count": 92,
   "metadata": {},
   "outputs": [
    {
     "data": {
      "text/plain": [
       "'[02/Aug/2011:22:00:00 -0700] \"user_5\" 0.0.0.0 0.0.0.0  9080 0 TCP_ERR_MISS \"unknown -/ HTTP/1.0\" \"unknown\"  \"low risk\" \"-\" 0 35 \"-\" \"-\" \"-\" \"0\" \"\" \"-\"\\n'"
      ]
     },
     "execution_count": 92,
     "metadata": {},
     "output_type": "execute_result"
    }
   ],
   "source": [
    "a.ua_string"
   ]
  },
  {
   "cell_type": "code",
   "execution_count": 15,
   "metadata": {},
   "outputs": [],
   "source": [
    "benign['timestamp']=benign['user_agent'].apply(lambda x: re.findall(r'^\\[(.+?)\\]',x)[0])"
   ]
  },
  {
   "cell_type": "code",
   "execution_count": 16,
   "metadata": {},
   "outputs": [],
   "source": [
    "benign['timestamp_obj']=benign['timestamp'].apply(lambda x:pd.to_datetime(x,format='%d/%b/%Y:%H:%M:%S -0700',errors='coerce'))"
   ]
  },
  {
   "cell_type": "code",
   "execution_count": 17,
   "metadata": {},
   "outputs": [
    {
     "data": {
      "text/plain": [
       "user_agent       0\n",
       "timestamp        0\n",
       "timestamp_obj    0\n",
       "dtype: int64"
      ]
     },
     "execution_count": 17,
     "metadata": {},
     "output_type": "execute_result"
    }
   ],
   "source": [
    "benign.isnull().sum()"
   ]
  },
  {
   "cell_type": "code",
   "execution_count": 18,
   "metadata": {},
   "outputs": [
    {
     "data": {
      "text/plain": [
       "(Timestamp('2011-08-02 23:27:37'), Timestamp('2011-08-02 22:00:00'))"
      ]
     },
     "execution_count": 18,
     "metadata": {},
     "output_type": "execute_result"
    }
   ],
   "source": [
    "benign['timestamp_obj'].max(),benign['timestamp_obj'].min()"
   ]
  },
  {
   "cell_type": "code",
   "execution_count": 19,
   "metadata": {},
   "outputs": [],
   "source": [
    "benign['min']=benign['timestamp_obj'].apply(lambda x:(x.hour,x.minute))"
   ]
  },
  {
   "cell_type": "code",
   "execution_count": 20,
   "metadata": {},
   "outputs": [
    {
     "data": {
      "text/html": [
       "<div>\n",
       "<style scoped>\n",
       "    .dataframe tbody tr th:only-of-type {\n",
       "        vertical-align: middle;\n",
       "    }\n",
       "\n",
       "    .dataframe tbody tr th {\n",
       "        vertical-align: top;\n",
       "    }\n",
       "\n",
       "    .dataframe thead th {\n",
       "        text-align: right;\n",
       "    }\n",
       "</style>\n",
       "<table border=\"1\" class=\"dataframe\">\n",
       "  <thead>\n",
       "    <tr style=\"text-align: right;\">\n",
       "      <th></th>\n",
       "      <th>user_agent</th>\n",
       "      <th>timestamp</th>\n",
       "      <th>timestamp_obj</th>\n",
       "      <th>min</th>\n",
       "    </tr>\n",
       "  </thead>\n",
       "  <tbody>\n",
       "    <tr>\n",
       "      <th>0</th>\n",
       "      <td>[02/Aug/2011:22:00:00 -0700] \"user_2\" 0.0.0.0 ...</td>\n",
       "      <td>02/Aug/2011:22:00:00 -0700</td>\n",
       "      <td>2011-08-02 22:00:00</td>\n",
       "      <td>(22, 0)</td>\n",
       "    </tr>\n",
       "    <tr>\n",
       "      <th>1</th>\n",
       "      <td>[02/Aug/2011:22:00:00 -0700] \"user_3\" 0.0.0.0 ...</td>\n",
       "      <td>02/Aug/2011:22:00:00 -0700</td>\n",
       "      <td>2011-08-02 22:00:00</td>\n",
       "      <td>(22, 0)</td>\n",
       "    </tr>\n",
       "    <tr>\n",
       "      <th>2</th>\n",
       "      <td>[02/Aug/2011:22:00:00 -0700] \"user_4\" 0.0.0.0 ...</td>\n",
       "      <td>02/Aug/2011:22:00:00 -0700</td>\n",
       "      <td>2011-08-02 22:00:00</td>\n",
       "      <td>(22, 0)</td>\n",
       "    </tr>\n",
       "    <tr>\n",
       "      <th>3</th>\n",
       "      <td>[02/Aug/2011:22:00:00 -0700] \"user_5\" 0.0.0.0 ...</td>\n",
       "      <td>02/Aug/2011:22:00:00 -0700</td>\n",
       "      <td>2011-08-02 22:00:00</td>\n",
       "      <td>(22, 0)</td>\n",
       "    </tr>\n",
       "    <tr>\n",
       "      <th>4</th>\n",
       "      <td>[02/Aug/2011:22:00:00 -0700] \"user_6\" 0.0.0.0 ...</td>\n",
       "      <td>02/Aug/2011:22:00:00 -0700</td>\n",
       "      <td>2011-08-02 22:00:00</td>\n",
       "      <td>(22, 0)</td>\n",
       "    </tr>\n",
       "  </tbody>\n",
       "</table>\n",
       "</div>"
      ],
      "text/plain": [
       "                                          user_agent  \\\n",
       "0  [02/Aug/2011:22:00:00 -0700] \"user_2\" 0.0.0.0 ...   \n",
       "1  [02/Aug/2011:22:00:00 -0700] \"user_3\" 0.0.0.0 ...   \n",
       "2  [02/Aug/2011:22:00:00 -0700] \"user_4\" 0.0.0.0 ...   \n",
       "3  [02/Aug/2011:22:00:00 -0700] \"user_5\" 0.0.0.0 ...   \n",
       "4  [02/Aug/2011:22:00:00 -0700] \"user_6\" 0.0.0.0 ...   \n",
       "\n",
       "                    timestamp       timestamp_obj      min  \n",
       "0  02/Aug/2011:22:00:00 -0700 2011-08-02 22:00:00  (22, 0)  \n",
       "1  02/Aug/2011:22:00:00 -0700 2011-08-02 22:00:00  (22, 0)  \n",
       "2  02/Aug/2011:22:00:00 -0700 2011-08-02 22:00:00  (22, 0)  \n",
       "3  02/Aug/2011:22:00:00 -0700 2011-08-02 22:00:00  (22, 0)  \n",
       "4  02/Aug/2011:22:00:00 -0700 2011-08-02 22:00:00  (22, 0)  "
      ]
     },
     "execution_count": 20,
     "metadata": {},
     "output_type": "execute_result"
    }
   ],
   "source": [
    "benign.head()"
   ]
  },
  {
   "cell_type": "code",
   "execution_count": 21,
   "metadata": {},
   "outputs": [],
   "source": [
    "grouped_benign=benign.groupby('min', group_keys=False)"
   ]
  },
  {
   "cell_type": "markdown",
   "metadata": {},
   "source": [
    "#### Time Distribution of Records"
   ]
  },
  {
   "cell_type": "code",
   "execution_count": 22,
   "metadata": {},
   "outputs": [
    {
     "data": {
      "text/plain": [
       "<matplotlib.axes._subplots.AxesSubplot at 0x7f9c88188210>"
      ]
     },
     "execution_count": 22,
     "metadata": {},
     "output_type": "execute_result"
    },
    {
     "data": {
      "image/png": "[encoded data removed]",
      "text/plain": [
       "<Figure size 1440x576 with 1 Axes>"
      ]
     },
     "metadata": {
      "needs_background": "light"
     },
     "output_type": "display_data"
    }
   ],
   "source": [
    "plt.figure(figsize=(20,8))\n",
    "grouped_benign['min'].value_counts().plot(kind='bar')"
   ]
  },
  {
   "cell_type": "markdown",
   "metadata": {},
   "source": [
    "#### Time slice sampling of 0.5% due to modest computing resources"
   ]
  },
  {
   "cell_type": "code",
   "execution_count": 23,
   "metadata": {},
   "outputs": [],
   "source": [
    "sample=grouped_benign.apply(lambda x: x.sample(frac=0.005)).reset_index()"
   ]
  },
  {
   "cell_type": "code",
   "execution_count": 24,
   "metadata": {},
   "outputs": [
    {
     "data": {
      "text/html": [
       "<div>\n",
       "<style scoped>\n",
       "    .dataframe tbody tr th:only-of-type {\n",
       "        vertical-align: middle;\n",
       "    }\n",
       "\n",
       "    .dataframe tbody tr th {\n",
       "        vertical-align: top;\n",
       "    }\n",
       "\n",
       "    .dataframe thead th {\n",
       "        text-align: right;\n",
       "    }\n",
       "</style>\n",
       "<table border=\"1\" class=\"dataframe\">\n",
       "  <thead>\n",
       "    <tr style=\"text-align: right;\">\n",
       "      <th></th>\n",
       "      <th>index</th>\n",
       "      <th>user_agent</th>\n",
       "      <th>timestamp</th>\n",
       "      <th>timestamp_obj</th>\n",
       "      <th>min</th>\n",
       "    </tr>\n",
       "  </thead>\n",
       "  <tbody>\n",
       "    <tr>\n",
       "      <th>0</th>\n",
       "      <td>4351</td>\n",
       "      <td>[02/Aug/2011:22:00:15 -0700] \"user_353\" 0.0.0....</td>\n",
       "      <td>02/Aug/2011:22:00:15 -0700</td>\n",
       "      <td>2011-08-02 22:00:15</td>\n",
       "      <td>(22, 0)</td>\n",
       "    </tr>\n",
       "    <tr>\n",
       "      <th>1</th>\n",
       "      <td>13740</td>\n",
       "      <td>[02/Aug/2011:22:00:44 -0700] \"user_242\" 0.0.0....</td>\n",
       "      <td>02/Aug/2011:22:00:44 -0700</td>\n",
       "      <td>2011-08-02 22:00:44</td>\n",
       "      <td>(22, 0)</td>\n",
       "    </tr>\n",
       "    <tr>\n",
       "      <th>2</th>\n",
       "      <td>105</td>\n",
       "      <td>[02/Aug/2011:22:00:00 -0700] \"user_107\" 0.0.0....</td>\n",
       "      <td>02/Aug/2011:22:00:00 -0700</td>\n",
       "      <td>2011-08-02 22:00:00</td>\n",
       "      <td>(22, 0)</td>\n",
       "    </tr>\n",
       "    <tr>\n",
       "      <th>3</th>\n",
       "      <td>5487</td>\n",
       "      <td>[02/Aug/2011:22:00:19 -0700] \"user_489\" 0.0.0....</td>\n",
       "      <td>02/Aug/2011:22:00:19 -0700</td>\n",
       "      <td>2011-08-02 22:00:19</td>\n",
       "      <td>(22, 0)</td>\n",
       "    </tr>\n",
       "    <tr>\n",
       "      <th>4</th>\n",
       "      <td>2861</td>\n",
       "      <td>[02/Aug/2011:22:00:10 -0700] \"user_363\" 0.0.0....</td>\n",
       "      <td>02/Aug/2011:22:00:10 -0700</td>\n",
       "      <td>2011-08-02 22:00:10</td>\n",
       "      <td>(22, 0)</td>\n",
       "    </tr>\n",
       "    <tr>\n",
       "      <th>...</th>\n",
       "      <td>...</td>\n",
       "      <td>...</td>\n",
       "      <td>...</td>\n",
       "      <td>...</td>\n",
       "      <td>...</td>\n",
       "    </tr>\n",
       "    <tr>\n",
       "      <th>7117</th>\n",
       "      <td>1419533</td>\n",
       "      <td>[02/Aug/2011:23:27:16 -0700] \"user_174\" 0.0.0....</td>\n",
       "      <td>02/Aug/2011:23:27:16 -0700</td>\n",
       "      <td>2011-08-02 23:27:16</td>\n",
       "      <td>(23, 27)</td>\n",
       "    </tr>\n",
       "    <tr>\n",
       "      <th>7118</th>\n",
       "      <td>1417352</td>\n",
       "      <td>[02/Aug/2011:23:27:07 -0700] \"user_493\" 0.0.0....</td>\n",
       "      <td>02/Aug/2011:23:27:07 -0700</td>\n",
       "      <td>2011-08-02 23:27:07</td>\n",
       "      <td>(23, 27)</td>\n",
       "    </tr>\n",
       "    <tr>\n",
       "      <th>7119</th>\n",
       "      <td>1422047</td>\n",
       "      <td>[02/Aug/2011:23:27:28 -0700] \"user_188\" 0.0.0....</td>\n",
       "      <td>02/Aug/2011:23:27:28 -0700</td>\n",
       "      <td>2011-08-02 23:27:28</td>\n",
       "      <td>(23, 27)</td>\n",
       "    </tr>\n",
       "    <tr>\n",
       "      <th>7120</th>\n",
       "      <td>1422930</td>\n",
       "      <td>[02/Aug/2011:23:27:32 -0700] \"user_71\" 0.0.0.0...</td>\n",
       "      <td>02/Aug/2011:23:27:32 -0700</td>\n",
       "      <td>2011-08-02 23:27:32</td>\n",
       "      <td>(23, 27)</td>\n",
       "    </tr>\n",
       "    <tr>\n",
       "      <th>7121</th>\n",
       "      <td>1420713</td>\n",
       "      <td>[02/Aug/2011:23:27:21 -0700] \"user_354\" 0.0.0....</td>\n",
       "      <td>02/Aug/2011:23:27:21 -0700</td>\n",
       "      <td>2011-08-02 23:27:21</td>\n",
       "      <td>(23, 27)</td>\n",
       "    </tr>\n",
       "  </tbody>\n",
       "</table>\n",
       "<p>7122 rows × 5 columns</p>\n",
       "</div>"
      ],
      "text/plain": [
       "        index                                         user_agent  \\\n",
       "0        4351  [02/Aug/2011:22:00:15 -0700] \"user_353\" 0.0.0....   \n",
       "1       13740  [02/Aug/2011:22:00:44 -0700] \"user_242\" 0.0.0....   \n",
       "2         105  [02/Aug/2011:22:00:00 -0700] \"user_107\" 0.0.0....   \n",
       "3        5487  [02/Aug/2011:22:00:19 -0700] \"user_489\" 0.0.0....   \n",
       "4        2861  [02/Aug/2011:22:00:10 -0700] \"user_363\" 0.0.0....   \n",
       "...       ...                                                ...   \n",
       "7117  1419533  [02/Aug/2011:23:27:16 -0700] \"user_174\" 0.0.0....   \n",
       "7118  1417352  [02/Aug/2011:23:27:07 -0700] \"user_493\" 0.0.0....   \n",
       "7119  1422047  [02/Aug/2011:23:27:28 -0700] \"user_188\" 0.0.0....   \n",
       "7120  1422930  [02/Aug/2011:23:27:32 -0700] \"user_71\" 0.0.0.0...   \n",
       "7121  1420713  [02/Aug/2011:23:27:21 -0700] \"user_354\" 0.0.0....   \n",
       "\n",
       "                       timestamp       timestamp_obj       min  \n",
       "0     02/Aug/2011:22:00:15 -0700 2011-08-02 22:00:15   (22, 0)  \n",
       "1     02/Aug/2011:22:00:44 -0700 2011-08-02 22:00:44   (22, 0)  \n",
       "2     02/Aug/2011:22:00:00 -0700 2011-08-02 22:00:00   (22, 0)  \n",
       "3     02/Aug/2011:22:00:19 -0700 2011-08-02 22:00:19   (22, 0)  \n",
       "4     02/Aug/2011:22:00:10 -0700 2011-08-02 22:00:10   (22, 0)  \n",
       "...                          ...                 ...       ...  \n",
       "7117  02/Aug/2011:23:27:16 -0700 2011-08-02 23:27:16  (23, 27)  \n",
       "7118  02/Aug/2011:23:27:07 -0700 2011-08-02 23:27:07  (23, 27)  \n",
       "7119  02/Aug/2011:23:27:28 -0700 2011-08-02 23:27:28  (23, 27)  \n",
       "7120  02/Aug/2011:23:27:32 -0700 2011-08-02 23:27:32  (23, 27)  \n",
       "7121  02/Aug/2011:23:27:21 -0700 2011-08-02 23:27:21  (23, 27)  \n",
       "\n",
       "[7122 rows x 5 columns]"
      ]
     },
     "execution_count": 24,
     "metadata": {},
     "output_type": "execute_result"
    }
   ],
   "source": [
    "sample"
   ]
  },
  {
   "cell_type": "code",
   "execution_count": 25,
   "metadata": {},
   "outputs": [
    {
     "data": {
      "text/plain": [
       "<matplotlib.axes._subplots.AxesSubplot at 0x7f9c80dbd210>"
      ]
     },
     "execution_count": 25,
     "metadata": {},
     "output_type": "execute_result"
    },
    {
     "data": {
      "image/png": "[encoded data removed]",
      "text/plain": [
       "<Figure size 1440x576 with 1 Axes>"
      ]
     },
     "metadata": {
      "needs_background": "light"
     },
     "output_type": "display_data"
    }
   ],
   "source": [
    "plt.figure(figsize=(20,8))\n",
    "sample['min'].value_counts().plot(kind='bar')"
   ]
  },
  {
   "cell_type": "markdown",
   "metadata": {},
   "source": [
    "#### Data parsing/wrangling"
   ]
  },
  {
   "cell_type": "code",
   "execution_count": 26,
   "metadata": {},
   "outputs": [],
   "source": [
    "sample['user_id']=benign['user_agent'].apply(lambda x: re.findall(r'user_\\d+',x)[0])"
   ]
  },
  {
   "cell_type": "code",
   "execution_count": 27,
   "metadata": {},
   "outputs": [],
   "source": [
    "sample['browser_family']=sample['user_agent'].apply(lambda x:parse(x).browser.family)"
   ]
  },
  {
   "cell_type": "code",
   "execution_count": 28,
   "metadata": {},
   "outputs": [],
   "source": [
    "sample['browser_version']=sample['user_agent'].apply(lambda x:parse(x).browser.version_string)"
   ]
  },
  {
   "cell_type": "code",
   "execution_count": 29,
   "metadata": {},
   "outputs": [],
   "source": [
    "sample['os_family']=sample['user_agent'].apply(lambda x:parse(x).os.family)"
   ]
  },
  {
   "cell_type": "code",
   "execution_count": 30,
   "metadata": {},
   "outputs": [],
   "source": [
    "sample['os_version']=sample['user_agent'].apply(lambda x:parse(x).os.version_string)"
   ]
  },
  {
   "cell_type": "code",
   "execution_count": 31,
   "metadata": {},
   "outputs": [],
   "source": [
    "sample['device_family']=sample['user_agent'].apply(lambda x:parse(x).device.family)"
   ]
  },
  {
   "cell_type": "code",
   "execution_count": 32,
   "metadata": {},
   "outputs": [],
   "source": [
    "sample['device_brand']=sample['user_agent'].apply(lambda x:parse(x).device.brand)"
   ]
  },
  {
   "cell_type": "code",
   "execution_count": 33,
   "metadata": {},
   "outputs": [],
   "source": [
    "sample['device_model']=sample['user_agent'].apply(lambda x:parse(x).device.model)"
   ]
  },
  {
   "cell_type": "code",
   "execution_count": 34,
   "metadata": {},
   "outputs": [],
   "source": [
    "sample['is_mobile']=sample['user_agent'].apply(lambda x:parse(x).is_mobile)"
   ]
  },
  {
   "cell_type": "code",
   "execution_count": 35,
   "metadata": {},
   "outputs": [],
   "source": [
    "sample['is_tablet']=sample['user_agent'].apply(lambda x:parse(x).is_tablet)"
   ]
  },
  {
   "cell_type": "code",
   "execution_count": 36,
   "metadata": {},
   "outputs": [],
   "source": [
    "sample['is_pc']=sample['user_agent'].apply(lambda x:parse(x).is_pc)"
   ]
  },
  {
   "cell_type": "code",
   "execution_count": 37,
   "metadata": {},
   "outputs": [],
   "source": [
    "sample['is_touch_capable']=sample['user_agent'].apply(lambda x:parse(x).is_touch_capable)"
   ]
  },
  {
   "cell_type": "code",
   "execution_count": 38,
   "metadata": {},
   "outputs": [],
   "source": [
    "sample['is_bot']=sample['user_agent'].apply(lambda x:parse(x).is_bot)"
   ]
  },
  {
   "cell_type": "code",
   "execution_count": 39,
   "metadata": {},
   "outputs": [],
   "source": [
    "sample=pd.DataFrame(sample)"
   ]
  },
  {
   "cell_type": "code",
   "execution_count": 40,
   "metadata": {},
   "outputs": [
    {
     "data": {
      "text/html": [
       "<div>\n",
       "<style scoped>\n",
       "    .dataframe tbody tr th:only-of-type {\n",
       "        vertical-align: middle;\n",
       "    }\n",
       "\n",
       "    .dataframe tbody tr th {\n",
       "        vertical-align: top;\n",
       "    }\n",
       "\n",
       "    .dataframe thead th {\n",
       "        text-align: right;\n",
       "    }\n",
       "</style>\n",
       "<table border=\"1\" class=\"dataframe\">\n",
       "  <thead>\n",
       "    <tr style=\"text-align: right;\">\n",
       "      <th></th>\n",
       "      <th>index</th>\n",
       "      <th>user_agent</th>\n",
       "      <th>timestamp</th>\n",
       "      <th>timestamp_obj</th>\n",
       "      <th>min</th>\n",
       "      <th>user_id</th>\n",
       "      <th>browser_family</th>\n",
       "      <th>browser_version</th>\n",
       "      <th>os_family</th>\n",
       "      <th>os_version</th>\n",
       "      <th>device_family</th>\n",
       "      <th>device_brand</th>\n",
       "      <th>device_model</th>\n",
       "      <th>is_mobile</th>\n",
       "      <th>is_tablet</th>\n",
       "      <th>is_pc</th>\n",
       "      <th>is_touch_capable</th>\n",
       "      <th>is_bot</th>\n",
       "    </tr>\n",
       "  </thead>\n",
       "  <tbody>\n",
       "    <tr>\n",
       "      <th>0</th>\n",
       "      <td>4351</td>\n",
       "      <td>[02/Aug/2011:22:00:15 -0700] \"user_353\" 0.0.0....</td>\n",
       "      <td>02/Aug/2011:22:00:15 -0700</td>\n",
       "      <td>2011-08-02 22:00:15</td>\n",
       "      <td>(22, 0)</td>\n",
       "      <td>user_2</td>\n",
       "      <td>Opera Mobile</td>\n",
       "      <td>11.10</td>\n",
       "      <td>Symbian OS</td>\n",
       "      <td></td>\n",
       "      <td>Generic Smartphone</td>\n",
       "      <td>Generic</td>\n",
       "      <td>Smartphone</td>\n",
       "      <td>True</td>\n",
       "      <td>False</td>\n",
       "      <td>False</td>\n",
       "      <td>False</td>\n",
       "      <td>False</td>\n",
       "    </tr>\n",
       "    <tr>\n",
       "      <th>1</th>\n",
       "      <td>13740</td>\n",
       "      <td>[02/Aug/2011:22:00:44 -0700] \"user_242\" 0.0.0....</td>\n",
       "      <td>02/Aug/2011:22:00:44 -0700</td>\n",
       "      <td>2011-08-02 22:00:44</td>\n",
       "      <td>(22, 0)</td>\n",
       "      <td>user_3</td>\n",
       "      <td>Firefox</td>\n",
       "      <td>5.0</td>\n",
       "      <td>Windows</td>\n",
       "      <td>7</td>\n",
       "      <td>Other</td>\n",
       "      <td>None</td>\n",
       "      <td>None</td>\n",
       "      <td>False</td>\n",
       "      <td>False</td>\n",
       "      <td>True</td>\n",
       "      <td>False</td>\n",
       "      <td>False</td>\n",
       "    </tr>\n",
       "    <tr>\n",
       "      <th>2</th>\n",
       "      <td>105</td>\n",
       "      <td>[02/Aug/2011:22:00:00 -0700] \"user_107\" 0.0.0....</td>\n",
       "      <td>02/Aug/2011:22:00:00 -0700</td>\n",
       "      <td>2011-08-02 22:00:00</td>\n",
       "      <td>(22, 0)</td>\n",
       "      <td>user_4</td>\n",
       "      <td>Firefox</td>\n",
       "      <td>5.0</td>\n",
       "      <td>Windows</td>\n",
       "      <td>XP</td>\n",
       "      <td>Other</td>\n",
       "      <td>None</td>\n",
       "      <td>None</td>\n",
       "      <td>False</td>\n",
       "      <td>False</td>\n",
       "      <td>True</td>\n",
       "      <td>False</td>\n",
       "      <td>False</td>\n",
       "    </tr>\n",
       "    <tr>\n",
       "      <th>3</th>\n",
       "      <td>5487</td>\n",
       "      <td>[02/Aug/2011:22:00:19 -0700] \"user_489\" 0.0.0....</td>\n",
       "      <td>02/Aug/2011:22:00:19 -0700</td>\n",
       "      <td>2011-08-02 22:00:19</td>\n",
       "      <td>(22, 0)</td>\n",
       "      <td>user_5</td>\n",
       "      <td>Firefox</td>\n",
       "      <td>3.6.8</td>\n",
       "      <td>Windows</td>\n",
       "      <td>XP</td>\n",
       "      <td>Other</td>\n",
       "      <td>None</td>\n",
       "      <td>None</td>\n",
       "      <td>False</td>\n",
       "      <td>False</td>\n",
       "      <td>True</td>\n",
       "      <td>False</td>\n",
       "      <td>False</td>\n",
       "    </tr>\n",
       "    <tr>\n",
       "      <th>4</th>\n",
       "      <td>2861</td>\n",
       "      <td>[02/Aug/2011:22:00:10 -0700] \"user_363\" 0.0.0....</td>\n",
       "      <td>02/Aug/2011:22:00:10 -0700</td>\n",
       "      <td>2011-08-02 22:00:10</td>\n",
       "      <td>(22, 0)</td>\n",
       "      <td>user_6</td>\n",
       "      <td>Other</td>\n",
       "      <td></td>\n",
       "      <td>Other</td>\n",
       "      <td></td>\n",
       "      <td>Other</td>\n",
       "      <td>None</td>\n",
       "      <td>None</td>\n",
       "      <td>False</td>\n",
       "      <td>False</td>\n",
       "      <td>False</td>\n",
       "      <td>False</td>\n",
       "      <td>False</td>\n",
       "    </tr>\n",
       "    <tr>\n",
       "      <th>...</th>\n",
       "      <td>...</td>\n",
       "      <td>...</td>\n",
       "      <td>...</td>\n",
       "      <td>...</td>\n",
       "      <td>...</td>\n",
       "      <td>...</td>\n",
       "      <td>...</td>\n",
       "      <td>...</td>\n",
       "      <td>...</td>\n",
       "      <td>...</td>\n",
       "      <td>...</td>\n",
       "      <td>...</td>\n",
       "      <td>...</td>\n",
       "      <td>...</td>\n",
       "      <td>...</td>\n",
       "      <td>...</td>\n",
       "      <td>...</td>\n",
       "      <td>...</td>\n",
       "    </tr>\n",
       "    <tr>\n",
       "      <th>7117</th>\n",
       "      <td>1419533</td>\n",
       "      <td>[02/Aug/2011:23:27:16 -0700] \"user_174\" 0.0.0....</td>\n",
       "      <td>02/Aug/2011:23:27:16 -0700</td>\n",
       "      <td>2011-08-02 23:27:16</td>\n",
       "      <td>(23, 27)</td>\n",
       "      <td>user_119</td>\n",
       "      <td>Firefox</td>\n",
       "      <td>6.0</td>\n",
       "      <td>Windows</td>\n",
       "      <td>XP</td>\n",
       "      <td>Other</td>\n",
       "      <td>None</td>\n",
       "      <td>None</td>\n",
       "      <td>False</td>\n",
       "      <td>False</td>\n",
       "      <td>True</td>\n",
       "      <td>False</td>\n",
       "      <td>False</td>\n",
       "    </tr>\n",
       "    <tr>\n",
       "      <th>7118</th>\n",
       "      <td>1417352</td>\n",
       "      <td>[02/Aug/2011:23:27:07 -0700] \"user_493\" 0.0.0....</td>\n",
       "      <td>02/Aug/2011:23:27:07 -0700</td>\n",
       "      <td>2011-08-02 23:27:07</td>\n",
       "      <td>(23, 27)</td>\n",
       "      <td>user_120</td>\n",
       "      <td>IE</td>\n",
       "      <td>9.0</td>\n",
       "      <td>Windows</td>\n",
       "      <td>7</td>\n",
       "      <td>Other</td>\n",
       "      <td>None</td>\n",
       "      <td>None</td>\n",
       "      <td>False</td>\n",
       "      <td>False</td>\n",
       "      <td>True</td>\n",
       "      <td>False</td>\n",
       "      <td>False</td>\n",
       "    </tr>\n",
       "    <tr>\n",
       "      <th>7119</th>\n",
       "      <td>1422047</td>\n",
       "      <td>[02/Aug/2011:23:27:28 -0700] \"user_188\" 0.0.0....</td>\n",
       "      <td>02/Aug/2011:23:27:28 -0700</td>\n",
       "      <td>2011-08-02 23:27:28</td>\n",
       "      <td>(23, 27)</td>\n",
       "      <td>user_121</td>\n",
       "      <td>Firefox</td>\n",
       "      <td>5.0</td>\n",
       "      <td>Windows</td>\n",
       "      <td>XP</td>\n",
       "      <td>Other</td>\n",
       "      <td>None</td>\n",
       "      <td>None</td>\n",
       "      <td>False</td>\n",
       "      <td>False</td>\n",
       "      <td>True</td>\n",
       "      <td>False</td>\n",
       "      <td>False</td>\n",
       "    </tr>\n",
       "    <tr>\n",
       "      <th>7120</th>\n",
       "      <td>1422930</td>\n",
       "      <td>[02/Aug/2011:23:27:32 -0700] \"user_71\" 0.0.0.0...</td>\n",
       "      <td>02/Aug/2011:23:27:32 -0700</td>\n",
       "      <td>2011-08-02 23:27:32</td>\n",
       "      <td>(23, 27)</td>\n",
       "      <td>user_122</td>\n",
       "      <td>Firefox</td>\n",
       "      <td>5.0</td>\n",
       "      <td>Windows</td>\n",
       "      <td>XP</td>\n",
       "      <td>Other</td>\n",
       "      <td>None</td>\n",
       "      <td>None</td>\n",
       "      <td>False</td>\n",
       "      <td>False</td>\n",
       "      <td>True</td>\n",
       "      <td>False</td>\n",
       "      <td>False</td>\n",
       "    </tr>\n",
       "    <tr>\n",
       "      <th>7121</th>\n",
       "      <td>1420713</td>\n",
       "      <td>[02/Aug/2011:23:27:21 -0700] \"user_354\" 0.0.0....</td>\n",
       "      <td>02/Aug/2011:23:27:21 -0700</td>\n",
       "      <td>2011-08-02 23:27:21</td>\n",
       "      <td>(23, 27)</td>\n",
       "      <td>user_123</td>\n",
       "      <td>Chrome</td>\n",
       "      <td>2.0.156</td>\n",
       "      <td>Windows</td>\n",
       "      <td>XP</td>\n",
       "      <td>Other</td>\n",
       "      <td>None</td>\n",
       "      <td>None</td>\n",
       "      <td>False</td>\n",
       "      <td>False</td>\n",
       "      <td>True</td>\n",
       "      <td>False</td>\n",
       "      <td>False</td>\n",
       "    </tr>\n",
       "  </tbody>\n",
       "</table>\n",
       "<p>7122 rows × 18 columns</p>\n",
       "</div>"
      ],
      "text/plain": [
       "        index                                         user_agent  \\\n",
       "0        4351  [02/Aug/2011:22:00:15 -0700] \"user_353\" 0.0.0....   \n",
       "1       13740  [02/Aug/2011:22:00:44 -0700] \"user_242\" 0.0.0....   \n",
       "2         105  [02/Aug/2011:22:00:00 -0700] \"user_107\" 0.0.0....   \n",
       "3        5487  [02/Aug/2011:22:00:19 -0700] \"user_489\" 0.0.0....   \n",
       "4        2861  [02/Aug/2011:22:00:10 -0700] \"user_363\" 0.0.0....   \n",
       "...       ...                                                ...   \n",
       "7117  1419533  [02/Aug/2011:23:27:16 -0700] \"user_174\" 0.0.0....   \n",
       "7118  1417352  [02/Aug/2011:23:27:07 -0700] \"user_493\" 0.0.0....   \n",
       "7119  1422047  [02/Aug/2011:23:27:28 -0700] \"user_188\" 0.0.0....   \n",
       "7120  1422930  [02/Aug/2011:23:27:32 -0700] \"user_71\" 0.0.0.0...   \n",
       "7121  1420713  [02/Aug/2011:23:27:21 -0700] \"user_354\" 0.0.0....   \n",
       "\n",
       "                       timestamp       timestamp_obj       min   user_id  \\\n",
       "0     02/Aug/2011:22:00:15 -0700 2011-08-02 22:00:15   (22, 0)    user_2   \n",
       "1     02/Aug/2011:22:00:44 -0700 2011-08-02 22:00:44   (22, 0)    user_3   \n",
       "2     02/Aug/2011:22:00:00 -0700 2011-08-02 22:00:00   (22, 0)    user_4   \n",
       "3     02/Aug/2011:22:00:19 -0700 2011-08-02 22:00:19   (22, 0)    user_5   \n",
       "4     02/Aug/2011:22:00:10 -0700 2011-08-02 22:00:10   (22, 0)    user_6   \n",
       "...                          ...                 ...       ...       ...   \n",
       "7117  02/Aug/2011:23:27:16 -0700 2011-08-02 23:27:16  (23, 27)  user_119   \n",
       "7118  02/Aug/2011:23:27:07 -0700 2011-08-02 23:27:07  (23, 27)  user_120   \n",
       "7119  02/Aug/2011:23:27:28 -0700 2011-08-02 23:27:28  (23, 27)  user_121   \n",
       "7120  02/Aug/2011:23:27:32 -0700 2011-08-02 23:27:32  (23, 27)  user_122   \n",
       "7121  02/Aug/2011:23:27:21 -0700 2011-08-02 23:27:21  (23, 27)  user_123   \n",
       "\n",
       "     browser_family browser_version   os_family os_version  \\\n",
       "0      Opera Mobile           11.10  Symbian OS              \n",
       "1           Firefox             5.0     Windows          7   \n",
       "2           Firefox             5.0     Windows         XP   \n",
       "3           Firefox           3.6.8     Windows         XP   \n",
       "4             Other                       Other              \n",
       "...             ...             ...         ...        ...   \n",
       "7117        Firefox             6.0     Windows         XP   \n",
       "7118             IE             9.0     Windows          7   \n",
       "7119        Firefox             5.0     Windows         XP   \n",
       "7120        Firefox             5.0     Windows         XP   \n",
       "7121         Chrome         2.0.156     Windows         XP   \n",
       "\n",
       "           device_family device_brand device_model  is_mobile  is_tablet  \\\n",
       "0     Generic Smartphone      Generic   Smartphone       True      False   \n",
       "1                  Other         None         None      False      False   \n",
       "2                  Other         None         None      False      False   \n",
       "3                  Other         None         None      False      False   \n",
       "4                  Other         None         None      False      False   \n",
       "...                  ...          ...          ...        ...        ...   \n",
       "7117               Other         None         None      False      False   \n",
       "7118               Other         None         None      False      False   \n",
       "7119               Other         None         None      False      False   \n",
       "7120               Other         None         None      False      False   \n",
       "7121               Other         None         None      False      False   \n",
       "\n",
       "      is_pc  is_touch_capable  is_bot  \n",
       "0     False             False   False  \n",
       "1      True             False   False  \n",
       "2      True             False   False  \n",
       "3      True             False   False  \n",
       "4     False             False   False  \n",
       "...     ...               ...     ...  \n",
       "7117   True             False   False  \n",
       "7118   True             False   False  \n",
       "7119   True             False   False  \n",
       "7120   True             False   False  \n",
       "7121   True             False   False  \n",
       "\n",
       "[7122 rows x 18 columns]"
      ]
     },
     "execution_count": 40,
     "metadata": {},
     "output_type": "execute_result"
    }
   ],
   "source": [
    "sample"
   ]
  },
  {
   "cell_type": "markdown",
   "metadata": {},
   "source": [
    "### Understanding Data Features and Summary Statistics"
   ]
  },
  {
   "cell_type": "code",
   "execution_count": 41,
   "metadata": {},
   "outputs": [
    {
     "name": "stdout",
     "output_type": "stream",
     "text": [
      "<class 'pandas.core.frame.DataFrame'>\n",
      "RangeIndex: 7122 entries, 0 to 7121\n",
      "Data columns (total 18 columns):\n",
      " #   Column            Non-Null Count  Dtype         \n",
      "---  ------            --------------  -----         \n",
      " 0   index             7122 non-null   int64         \n",
      " 1   user_agent        7122 non-null   object        \n",
      " 2   timestamp         7122 non-null   object        \n",
      " 3   timestamp_obj     7122 non-null   datetime64[ns]\n",
      " 4   min               7122 non-null   object        \n",
      " 5   user_id           7122 non-null   object        \n",
      " 6   browser_family    7122 non-null   object        \n",
      " 7   browser_version   7122 non-null   object        \n",
      " 8   os_family         7122 non-null   object        \n",
      " 9   os_version        7122 non-null   object        \n",
      " 10  device_family     7122 non-null   object        \n",
      " 11  device_brand      608 non-null    object        \n",
      " 12  device_model      608 non-null    object        \n",
      " 13  is_mobile         7122 non-null   bool          \n",
      " 14  is_tablet         7122 non-null   bool          \n",
      " 15  is_pc             7122 non-null   bool          \n",
      " 16  is_touch_capable  7122 non-null   bool          \n",
      " 17  is_bot            7122 non-null   bool          \n",
      "dtypes: bool(5), datetime64[ns](1), int64(1), object(11)\n",
      "memory usage: 758.2+ KB\n"
     ]
    }
   ],
   "source": [
    "sample.info()"
   ]
  },
  {
   "cell_type": "markdown",
   "metadata": {},
   "source": [
    "#### Average of  14.2 records per user id"
   ]
  },
  {
   "cell_type": "code",
   "execution_count": 42,
   "metadata": {},
   "outputs": [
    {
     "data": {
      "text/plain": [
       "(15, 14, 14.244)"
      ]
     },
     "execution_count": 42,
     "metadata": {},
     "output_type": "execute_result"
    }
   ],
   "source": [
    "sample['user_id'].value_counts().max(),sample['user_id'].value_counts().min(),sample['user_id'].value_counts().mean()"
   ]
  },
  {
   "cell_type": "markdown",
   "metadata": {},
   "source": [
    "#### Charts and Tables Showing Summary Statistics"
   ]
  },
  {
   "cell_type": "code",
   "execution_count": 43,
   "metadata": {},
   "outputs": [
    {
     "data": {
      "image/png": "[encoded data removed]",
      "text/plain": [
       "<Figure size 1440x1440 with 1 Axes>"
      ]
     },
     "metadata": {
      "needs_background": "light"
     },
     "output_type": "display_data"
    }
   ],
   "source": [
    "plt.figure(figsize=(20,20))\n",
    "plt.title(\"Browser Breakdown\")\n",
    "ax=sns.countplot(y='browser_family',data=sample)\n",
    "labels=[l.get_text()[:20] for l in ax.get_yticklabels()]\n",
    "ax.set_yticklabels(labels)\n",
    "plt.show()"
   ]
  },
  {
   "cell_type": "code",
   "execution_count": 44,
   "metadata": {},
   "outputs": [
    {
     "data": {
      "text/html": [
       "<div>\n",
       "<style scoped>\n",
       "    .dataframe tbody tr th:only-of-type {\n",
       "        vertical-align: middle;\n",
       "    }\n",
       "\n",
       "    .dataframe tbody tr th {\n",
       "        vertical-align: top;\n",
       "    }\n",
       "\n",
       "    .dataframe thead th {\n",
       "        text-align: right;\n",
       "    }\n",
       "</style>\n",
       "<table border=\"1\" class=\"dataframe\">\n",
       "  <thead>\n",
       "    <tr style=\"text-align: right;\">\n",
       "      <th></th>\n",
       "      <th>browser_family</th>\n",
       "      <th>counts</th>\n",
       "    </tr>\n",
       "  </thead>\n",
       "  <tbody>\n",
       "    <tr>\n",
       "      <th>0</th>\n",
       "      <td>IE</td>\n",
       "      <td>2770</td>\n",
       "    </tr>\n",
       "    <tr>\n",
       "      <th>1</th>\n",
       "      <td>Firefox</td>\n",
       "      <td>2373</td>\n",
       "    </tr>\n",
       "    <tr>\n",
       "      <th>2</th>\n",
       "      <td>Other</td>\n",
       "      <td>726</td>\n",
       "    </tr>\n",
       "    <tr>\n",
       "      <th>3</th>\n",
       "      <td>Chrome</td>\n",
       "      <td>531</td>\n",
       "    </tr>\n",
       "    <tr>\n",
       "      <th>4</th>\n",
       "      <td>Mobile Safari</td>\n",
       "      <td>167</td>\n",
       "    </tr>\n",
       "    <tr>\n",
       "      <th>5</th>\n",
       "      <td>Safari</td>\n",
       "      <td>123</td>\n",
       "    </tr>\n",
       "    <tr>\n",
       "      <th>6</th>\n",
       "      <td>Opera</td>\n",
       "      <td>98</td>\n",
       "    </tr>\n",
       "    <tr>\n",
       "      <th>7</th>\n",
       "      <td>Nokia Browser</td>\n",
       "      <td>58</td>\n",
       "    </tr>\n",
       "    <tr>\n",
       "      <th>8</th>\n",
       "      <td>Mobile Safari UI/WKWebView</td>\n",
       "      <td>52</td>\n",
       "    </tr>\n",
       "    <tr>\n",
       "      <th>9</th>\n",
       "      <td>Android</td>\n",
       "      <td>45</td>\n",
       "    </tr>\n",
       "    <tr>\n",
       "      <th>10</th>\n",
       "      <td>Firefox Beta</td>\n",
       "      <td>34</td>\n",
       "    </tr>\n",
       "    <tr>\n",
       "      <th>11</th>\n",
       "      <td>favicon</td>\n",
       "      <td>21</td>\n",
       "    </tr>\n",
       "    <tr>\n",
       "      <th>12</th>\n",
       "      <td>Nokia OSS Browser</td>\n",
       "      <td>13</td>\n",
       "    </tr>\n",
       "    <tr>\n",
       "      <th>13</th>\n",
       "      <td>Firefox Alpha</td>\n",
       "      <td>11</td>\n",
       "    </tr>\n",
       "    <tr>\n",
       "      <th>14</th>\n",
       "      <td>Avant</td>\n",
       "      <td>10</td>\n",
       "    </tr>\n",
       "    <tr>\n",
       "      <th>15</th>\n",
       "      <td>Opera Mobile</td>\n",
       "      <td>10</td>\n",
       "    </tr>\n",
       "    <tr>\n",
       "      <th>16</th>\n",
       "      <td>NetFront</td>\n",
       "      <td>8</td>\n",
       "    </tr>\n",
       "    <tr>\n",
       "      <th>17</th>\n",
       "      <td>Zune</td>\n",
       "      <td>7</td>\n",
       "    </tr>\n",
       "    <tr>\n",
       "      <th>18</th>\n",
       "      <td>SiteCon</td>\n",
       "      <td>6</td>\n",
       "    </tr>\n",
       "    <tr>\n",
       "      <th>19</th>\n",
       "      <td>Chromium</td>\n",
       "      <td>5</td>\n",
       "    </tr>\n",
       "    <tr>\n",
       "      <th>20</th>\n",
       "      <td>Java</td>\n",
       "      <td>4</td>\n",
       "    </tr>\n",
       "    <tr>\n",
       "      <th>21</th>\n",
       "      <td>BlackBerry WebKit</td>\n",
       "      <td>3</td>\n",
       "    </tr>\n",
       "    <tr>\n",
       "      <th>22</th>\n",
       "      <td>Flock</td>\n",
       "      <td>3</td>\n",
       "    </tr>\n",
       "    <tr>\n",
       "      <th>23</th>\n",
       "      <td>Windows Live Mail</td>\n",
       "      <td>3</td>\n",
       "    </tr>\n",
       "    <tr>\n",
       "      <th>24</th>\n",
       "      <td>Outlook</td>\n",
       "      <td>3</td>\n",
       "    </tr>\n",
       "    <tr>\n",
       "      <th>25</th>\n",
       "      <td>MozillaDeveloperPreview</td>\n",
       "      <td>3</td>\n",
       "    </tr>\n",
       "    <tr>\n",
       "      <th>26</th>\n",
       "      <td>Maxthon</td>\n",
       "      <td>3</td>\n",
       "    </tr>\n",
       "    <tr>\n",
       "      <th>27</th>\n",
       "      <td>scrape</td>\n",
       "      <td>2</td>\n",
       "    </tr>\n",
       "    <tr>\n",
       "      <th>28</th>\n",
       "      <td>Konqueror</td>\n",
       "      <td>2</td>\n",
       "    </tr>\n",
       "    <tr>\n",
       "      <th>29</th>\n",
       "      <td>Maemo Browser</td>\n",
       "      <td>2</td>\n",
       "    </tr>\n",
       "    <tr>\n",
       "      <th>30</th>\n",
       "      <td>Microsoft-CryptoAPI</td>\n",
       "      <td>2</td>\n",
       "    </tr>\n",
       "    <tr>\n",
       "      <th>31</th>\n",
       "      <td>bitchcrawler</td>\n",
       "      <td>1</td>\n",
       "    </tr>\n",
       "    <tr>\n",
       "      <th>32</th>\n",
       "      <td>[02/Aug/2011:22:46:02 -0700] \"user_398\" 0.0.0....</td>\n",
       "      <td>1</td>\n",
       "    </tr>\n",
       "    <tr>\n",
       "      <th>33</th>\n",
       "      <td>quot-bot</td>\n",
       "      <td>1</td>\n",
       "    </tr>\n",
       "    <tr>\n",
       "      <th>34</th>\n",
       "      <td>round-bot</td>\n",
       "      <td>1</td>\n",
       "    </tr>\n",
       "    <tr>\n",
       "      <th>35</th>\n",
       "      <td>[02/Aug/2011:23:02:47 -0700] \"user_244\" 0.0.0....</td>\n",
       "      <td>1</td>\n",
       "    </tr>\n",
       "    <tr>\n",
       "      <th>36</th>\n",
       "      <td>blocks/bot</td>\n",
       "      <td>1</td>\n",
       "    </tr>\n",
       "    <tr>\n",
       "      <th>37</th>\n",
       "      <td>[02/Aug/2011:22:57:33 -0700] \"user_362\" 0.0.0....</td>\n",
       "      <td>1</td>\n",
       "    </tr>\n",
       "    <tr>\n",
       "      <th>38</th>\n",
       "      <td>[02/Aug/2011:23:02:24 -0700] \"user_166\" 0.0.0....</td>\n",
       "      <td>1</td>\n",
       "    </tr>\n",
       "    <tr>\n",
       "      <th>39</th>\n",
       "      <td>Defaultfavicon21959_2906</td>\n",
       "      <td>1</td>\n",
       "    </tr>\n",
       "    <tr>\n",
       "      <th>40</th>\n",
       "      <td>Firefox (Minefield)</td>\n",
       "      <td>1</td>\n",
       "    </tr>\n",
       "    <tr>\n",
       "      <th>41</th>\n",
       "      <td>[02/Aug/2011:22:56:54 -0700] \"user_38\" 0.0.0.0...</td>\n",
       "      <td>1</td>\n",
       "    </tr>\n",
       "    <tr>\n",
       "      <th>42</th>\n",
       "      <td>WebKit Nightly</td>\n",
       "      <td>1</td>\n",
       "    </tr>\n",
       "    <tr>\n",
       "      <th>43</th>\n",
       "      <td>[02/Aug/2011:23:11:25 -0700] \"user_30\" 0.0.0.0...</td>\n",
       "      <td>1</td>\n",
       "    </tr>\n",
       "    <tr>\n",
       "      <th>44</th>\n",
       "      <td>[02/Aug/2011:23:00:02 -0700] \"user_104\" 0.0.0....</td>\n",
       "      <td>1</td>\n",
       "    </tr>\n",
       "    <tr>\n",
       "      <th>45</th>\n",
       "      <td>AdobeAIR</td>\n",
       "      <td>1</td>\n",
       "    </tr>\n",
       "    <tr>\n",
       "      <th>46</th>\n",
       "      <td>Windows-Update-Agent</td>\n",
       "      <td>1</td>\n",
       "    </tr>\n",
       "    <tr>\n",
       "      <th>47</th>\n",
       "      <td>[02/Aug/2011:23:00:44 -0700] \"user_296\" 0.0.0....</td>\n",
       "      <td>1</td>\n",
       "    </tr>\n",
       "    <tr>\n",
       "      <th>48</th>\n",
       "      <td>Defaultfavicon64506_275995</td>\n",
       "      <td>1</td>\n",
       "    </tr>\n",
       "    <tr>\n",
       "      <th>49</th>\n",
       "      <td>bookmarksite_favicon</td>\n",
       "      <td>1</td>\n",
       "    </tr>\n",
       "    <tr>\n",
       "      <th>50</th>\n",
       "      <td>divxcrawler</td>\n",
       "      <td>1</td>\n",
       "    </tr>\n",
       "    <tr>\n",
       "      <th>51</th>\n",
       "      <td>charlotte</td>\n",
       "      <td>1</td>\n",
       "    </tr>\n",
       "    <tr>\n",
       "      <th>52</th>\n",
       "      <td>Netscape</td>\n",
       "      <td>1</td>\n",
       "    </tr>\n",
       "    <tr>\n",
       "      <th>53</th>\n",
       "      <td>[02/Aug/2011:22:03:07 -0700] \"user_270\" 0.0.0....</td>\n",
       "      <td>1</td>\n",
       "    </tr>\n",
       "    <tr>\n",
       "      <th>54</th>\n",
       "      <td>[02/Aug/2011:22:54:03 -0700] \"user_304\" 0.0.0....</td>\n",
       "      <td>1</td>\n",
       "    </tr>\n",
       "  </tbody>\n",
       "</table>\n",
       "</div>"
      ],
      "text/plain": [
       "                                       browser_family  counts\n",
       "0                                                  IE    2770\n",
       "1                                             Firefox    2373\n",
       "2                                               Other     726\n",
       "3                                              Chrome     531\n",
       "4                                       Mobile Safari     167\n",
       "5                                              Safari     123\n",
       "6                                               Opera      98\n",
       "7                                       Nokia Browser      58\n",
       "8                          Mobile Safari UI/WKWebView      52\n",
       "9                                             Android      45\n",
       "10                                       Firefox Beta      34\n",
       "11                                            favicon      21\n",
       "12                                  Nokia OSS Browser      13\n",
       "13                                      Firefox Alpha      11\n",
       "14                                              Avant      10\n",
       "15                                       Opera Mobile      10\n",
       "16                                           NetFront       8\n",
       "17                                               Zune       7\n",
       "18                                            SiteCon       6\n",
       "19                                           Chromium       5\n",
       "20                                               Java       4\n",
       "21                                  BlackBerry WebKit       3\n",
       "22                                              Flock       3\n",
       "23                                  Windows Live Mail       3\n",
       "24                                            Outlook       3\n",
       "25                            MozillaDeveloperPreview       3\n",
       "26                                            Maxthon       3\n",
       "27                                             scrape       2\n",
       "28                                          Konqueror       2\n",
       "29                                      Maemo Browser       2\n",
       "30                                Microsoft-CryptoAPI       2\n",
       "31                                       bitchcrawler       1\n",
       "32  [02/Aug/2011:22:46:02 -0700] \"user_398\" 0.0.0....       1\n",
       "33                                           quot-bot       1\n",
       "34                                          round-bot       1\n",
       "35  [02/Aug/2011:23:02:47 -0700] \"user_244\" 0.0.0....       1\n",
       "36                                         blocks/bot       1\n",
       "37  [02/Aug/2011:22:57:33 -0700] \"user_362\" 0.0.0....       1\n",
       "38  [02/Aug/2011:23:02:24 -0700] \"user_166\" 0.0.0....       1\n",
       "39                           Defaultfavicon21959_2906       1\n",
       "40                                Firefox (Minefield)       1\n",
       "41  [02/Aug/2011:22:56:54 -0700] \"user_38\" 0.0.0.0...       1\n",
       "42                                     WebKit Nightly       1\n",
       "43  [02/Aug/2011:23:11:25 -0700] \"user_30\" 0.0.0.0...       1\n",
       "44  [02/Aug/2011:23:00:02 -0700] \"user_104\" 0.0.0....       1\n",
       "45                                           AdobeAIR       1\n",
       "46                               Windows-Update-Agent       1\n",
       "47  [02/Aug/2011:23:00:44 -0700] \"user_296\" 0.0.0....       1\n",
       "48                         Defaultfavicon64506_275995       1\n",
       "49                               bookmarksite_favicon       1\n",
       "50                                        divxcrawler       1\n",
       "51                                          charlotte       1\n",
       "52                                           Netscape       1\n",
       "53  [02/Aug/2011:22:03:07 -0700] \"user_270\" 0.0.0....       1\n",
       "54  [02/Aug/2011:22:54:03 -0700] \"user_304\" 0.0.0....       1"
      ]
     },
     "execution_count": 44,
     "metadata": {},
     "output_type": "execute_result"
    }
   ],
   "source": [
    "browser_cnt=pd.DataFrame(sample['browser_family'].value_counts()).reset_index()\n",
    "browser_cnt.columns=['browser_family','counts']\n",
    "browser_cnt"
   ]
  },
  {
   "cell_type": "markdown",
   "metadata": {},
   "source": [
    "#### Device data is sparse and will not make for good features when developing model"
   ]
  },
  {
   "cell_type": "code",
   "execution_count": 45,
   "metadata": {},
   "outputs": [
    {
     "data": {
      "image/png": "[encoded data removed]",
      "text/plain": [
       "<Figure size 1152x1152 with 1 Axes>"
      ]
     },
     "metadata": {
      "needs_background": "light"
     },
     "output_type": "display_data"
    }
   ],
   "source": [
    "plt.figure(figsize=(16,16))\n",
    "plt.title(\"Device_Family\")\n",
    "ax=sns.countplot(y='device_family', data=sample)"
   ]
  },
  {
   "cell_type": "code",
   "execution_count": 204,
   "metadata": {
    "scrolled": true
   },
   "outputs": [
    {
     "data": {
      "image/png": "[encoded data removed]",
      "text/plain": [
       "<Figure size 1152x1152 with 1 Axes>"
      ]
     },
     "metadata": {
      "needs_background": "light"
     },
     "output_type": "display_data"
    }
   ],
   "source": [
    "plt.figure(figsize=(16,16))\n",
    "plt.title(\"Device Brand\")\n",
    "ax=sns.countplot(x='device_brand', data=sample)\n",
    "for p in ax.patches:\n",
    "    ax.annotate('{:}'.format(p.get_height()), (p.get_x()+0.15, p.get_height()+1))\n",
    "plt.show()\n"
   ]
  },
  {
   "cell_type": "markdown",
   "metadata": {},
   "source": [
    "#### Operating System proportions"
   ]
  },
  {
   "cell_type": "code",
   "execution_count": 206,
   "metadata": {
    "scrolled": true
   },
   "outputs": [
    {
     "data": {
      "image/png": "[encoded data removed]",
      "text/plain": [
       "<Figure size 1152x576 with 1 Axes>"
      ]
     },
     "metadata": {
      "needs_background": "light"
     },
     "output_type": "display_data"
    }
   ],
   "source": [
    "plt.figure(figsize=(16,8))\n",
    "plt.title(\"OS Family\")\n",
    "ax=sns.countplot(x='os_family',data=sample)\n",
    "labels=[l.get_text()[:20] for l in ax.get_yticklabels()]\n",
    "ax.set_yticklabels(labels)\n",
    "for p in ax.patches:\n",
    "    ax.annotate('{:}'.format(p.get_height()), (p.get_x()+0.15, p.get_height()+1))\n",
    "plt.show()"
   ]
  },
  {
   "cell_type": "code",
   "execution_count": 207,
   "metadata": {},
   "outputs": [
    {
     "data": {
      "image/png": "[encoded data removed]",
      "text/plain": [
       "<Figure size 432x288 with 1 Axes>"
      ]
     },
     "metadata": {
      "needs_background": "light"
     },
     "output_type": "display_data"
    }
   ],
   "source": [
    "#Plotting propotions: Mobile phones\n",
    "ax=sns.countplot(sample['is_mobile'])\n",
    "plt.title(\"Mobile?\")\n",
    "for p in ax.patches:\n",
    "    ax.annotate('{:}'.format(p.get_height()), (p.get_x()+0.15, p.get_height()+1))"
   ]
  },
  {
   "cell_type": "code",
   "execution_count": 208,
   "metadata": {},
   "outputs": [
    {
     "data": {
      "image/png": "[encoded data removed]",
      "text/plain": [
       "<Figure size 432x288 with 1 Axes>"
      ]
     },
     "metadata": {
      "needs_background": "light"
     },
     "output_type": "display_data"
    }
   ],
   "source": [
    "#Plotting propotions: Personal computers\n",
    "ax=sns.countplot(sample['is_pc'])\n",
    "plt.title(\"PC?\")\n",
    "for p in ax.patches:\n",
    "    ax.annotate('{:}'.format(p.get_height()), (p.get_x()+0.15, p.get_height()+1))"
   ]
  },
  {
   "cell_type": "code",
   "execution_count": 209,
   "metadata": {},
   "outputs": [
    {
     "data": {
      "image/png": "[encoded data removed]",
      "text/plain": [
       "<Figure size 432x288 with 1 Axes>"
      ]
     },
     "metadata": {
      "needs_background": "light"
     },
     "output_type": "display_data"
    }
   ],
   "source": [
    "#Plotting propotions: Tablets\n",
    "ax=sns.countplot(sample['is_tablet'])\n",
    "plt.title(\"Tablet?\")\n",
    "for p in ax.patches:\n",
    "    ax.annotate('{:}'.format(p.get_height()), (p.get_x()+0.15, p.get_height()+1))"
   ]
  },
  {
   "cell_type": "code",
   "execution_count": 210,
   "metadata": {},
   "outputs": [
    {
     "data": {
      "image/png": "[encoded data removed]",
      "text/plain": [
       "<Figure size 432x288 with 1 Axes>"
      ]
     },
     "metadata": {
      "needs_background": "light"
     },
     "output_type": "display_data"
    }
   ],
   "source": [
    "#Plotting propotions: Touch capable devices\n",
    "ax=sns.countplot(sample['is_touch_capable'])\n",
    "plt.title(\"Touch Capable?\")\n",
    "for p in ax.patches:\n",
    "    ax.annotate('{:}'.format(p.get_height()), (p.get_x()+0.15, p.get_height()+1))"
   ]
  },
  {
   "cell_type": "code",
   "execution_count": 211,
   "metadata": {},
   "outputs": [
    {
     "data": {
      "image/png": "[encoded data removed]",
      "text/plain": [
       "<Figure size 432x288 with 1 Axes>"
      ]
     },
     "metadata": {
      "needs_background": "light"
     },
     "output_type": "display_data"
    }
   ],
   "source": [
    "#Plotting propotions: Bots and crawlers\n",
    "ax=sns.countplot(sample['is_bot'])\n",
    "plt.title(\"Bot?\")\n",
    "for p in ax.patches:\n",
    "    ax.annotate('{:}'.format(p.get_height()), (p.get_x()+0.15, p.get_height()+1))"
   ]
  },
  {
   "cell_type": "code",
   "execution_count": 221,
   "metadata": {
    "scrolled": false
   },
   "outputs": [
    {
     "data": {
      "image/png": "[encoded data removed]",
      "text/plain": [
       "<Figure size 465.325x288 with 2 Axes>"
      ]
     },
     "metadata": {
      "needs_background": "light"
     },
     "output_type": "display_data"
    }
   ],
   "source": [
    "#Cross plotting: Mobile phones and touch capable devices\n",
    "ax=sns.catplot(x=\"is_touch_capable\", hue=\"is_pc\", col=\"is_mobile\",\n",
    "...                 data=sample, kind=\"count\",\n",
    "...                 height=4, aspect=.7);\n"
   ]
  },
  {
   "cell_type": "markdown",
   "metadata": {},
   "source": [
    "### Model Development (One Class SVM)"
   ]
  },
  {
   "cell_type": "code",
   "execution_count": 225,
   "metadata": {},
   "outputs": [],
   "source": [
    "sample_cln=sample.drop(['index','user_agent','timestamp','timestamp_obj','min','os_version','browser_version','device_family','device_brand','device_model','user_id'],axis=1)"
   ]
  },
  {
   "cell_type": "code",
   "execution_count": 226,
   "metadata": {},
   "outputs": [],
   "source": [
    "sample_cln=pd.concat([sample_cln,pd.get_dummies(sample_cln['os_family'])],axis=1).drop(['os_family'],axis=1)\n",
    "sample_cln=pd.concat([sample_cln,pd.get_dummies(sample_cln['browser_family'])],axis=1).drop(['browser_family'],axis=1)"
   ]
  },
  {
   "cell_type": "markdown",
   "metadata": {},
   "source": [
    "#### Training on 71 features; all categorical in nature including browser type but disregerding versioning information"
   ]
  },
  {
   "cell_type": "code",
   "execution_count": 227,
   "metadata": {},
   "outputs": [],
   "source": [
    "# I make the assumption of 0.5% of samples being anomalies\n",
    "X=sample_cln.values\n",
    "clf = OneClassSVM(nu=0.005, kernel=\"rbf\", gamma=0.1).fit(X)"
   ]
  },
  {
   "cell_type": "code",
   "execution_count": 228,
   "metadata": {},
   "outputs": [],
   "source": [
    "result=clf.predict(X)"
   ]
  },
  {
   "cell_type": "markdown",
   "metadata": {},
   "source": [
    "### Model Predictions (-1=Anomaly and 1=Normal)"
   ]
  },
  {
   "cell_type": "code",
   "execution_count": 229,
   "metadata": {},
   "outputs": [
    {
     "data": {
      "image/png": "[encoded data removed]",
      "text/plain": [
       "<Figure size 432x288 with 1 Axes>"
      ]
     },
     "metadata": {
      "needs_background": "light"
     },
     "output_type": "display_data"
    }
   ],
   "source": [
    "ax=sns.countplot(result)\n",
    "plt.title(\"Classifier Results\")\n",
    "for p in ax.patches:\n",
    "    ax.annotate('{:}'.format(p.get_height()), (p.get_x()+0.15, p.get_height()+1))"
   ]
  },
  {
   "cell_type": "code",
   "execution_count": 230,
   "metadata": {},
   "outputs": [
    {
     "data": {
      "text/plain": [
       "(128, 6994)"
      ]
     },
     "execution_count": 230,
     "metadata": {},
     "output_type": "execute_result"
    }
   ],
   "source": [
    "len(result[result==-1]),len(result[result==1])"
   ]
  },
  {
   "cell_type": "markdown",
   "metadata": {},
   "source": [
    "####  1.8% of sample population appear to be outliers"
   ]
  },
  {
   "cell_type": "code",
   "execution_count": 231,
   "metadata": {},
   "outputs": [
    {
     "data": {
      "text/plain": [
       "1.7972479640550407"
      ]
     },
     "execution_count": 231,
     "metadata": {},
     "output_type": "execute_result"
    }
   ],
   "source": [
    "(len(result[result==-1])/len(sample_cln))*100"
   ]
  },
  {
   "cell_type": "code",
   "execution_count": 232,
   "metadata": {},
   "outputs": [
    {
     "data": {
      "text/plain": [
       "array([20.48174308, 21.19159522, 21.19159522, ..., 21.19159522,\n",
       "       21.19159522, 21.08513182])"
      ]
     },
     "execution_count": 232,
     "metadata": {},
     "output_type": "execute_result"
    }
   ],
   "source": [
    "clf.score_samples(X) "
   ]
  },
  {
   "cell_type": "code",
   "execution_count": 233,
   "metadata": {},
   "outputs": [],
   "source": [
    "result_df=pd.DataFrame(result)\n",
    "result_df.columns=['result']"
   ]
  },
  {
   "cell_type": "code",
   "execution_count": 234,
   "metadata": {},
   "outputs": [],
   "source": [
    "sample_cln=pd.concat([sample_cln,result_df],axis=1)"
   ]
  },
  {
   "cell_type": "code",
   "execution_count": 235,
   "metadata": {},
   "outputs": [
    {
     "data": {
      "text/html": [
       "<div>\n",
       "<style scoped>\n",
       "    .dataframe tbody tr th:only-of-type {\n",
       "        vertical-align: middle;\n",
       "    }\n",
       "\n",
       "    .dataframe tbody tr th {\n",
       "        vertical-align: top;\n",
       "    }\n",
       "\n",
       "    .dataframe thead th {\n",
       "        text-align: right;\n",
       "    }\n",
       "</style>\n",
       "<table border=\"1\" class=\"dataframe\">\n",
       "  <thead>\n",
       "    <tr style=\"text-align: right;\">\n",
       "      <th></th>\n",
       "      <th>is_mobile</th>\n",
       "      <th>is_tablet</th>\n",
       "      <th>is_pc</th>\n",
       "      <th>is_touch_capable</th>\n",
       "      <th>is_bot</th>\n",
       "      <th>Android</th>\n",
       "      <th>BlackBerry OS</th>\n",
       "      <th>Linux</th>\n",
       "      <th>Mac OS X</th>\n",
       "      <th>Maemo</th>\n",
       "      <th>...</th>\n",
       "      <th>bitchcrawler</th>\n",
       "      <th>blocks/bot</th>\n",
       "      <th>bookmarksite_favicon</th>\n",
       "      <th>charlotte</th>\n",
       "      <th>divxcrawler</th>\n",
       "      <th>favicon</th>\n",
       "      <th>quot-bot</th>\n",
       "      <th>round-bot</th>\n",
       "      <th>scrape</th>\n",
       "      <th>result</th>\n",
       "    </tr>\n",
       "  </thead>\n",
       "  <tbody>\n",
       "    <tr>\n",
       "      <th>0</th>\n",
       "      <td>True</td>\n",
       "      <td>False</td>\n",
       "      <td>False</td>\n",
       "      <td>False</td>\n",
       "      <td>False</td>\n",
       "      <td>0</td>\n",
       "      <td>0</td>\n",
       "      <td>0</td>\n",
       "      <td>0</td>\n",
       "      <td>0</td>\n",
       "      <td>...</td>\n",
       "      <td>0</td>\n",
       "      <td>0</td>\n",
       "      <td>0</td>\n",
       "      <td>0</td>\n",
       "      <td>0</td>\n",
       "      <td>0</td>\n",
       "      <td>0</td>\n",
       "      <td>0</td>\n",
       "      <td>0</td>\n",
       "      <td>-1</td>\n",
       "    </tr>\n",
       "    <tr>\n",
       "      <th>1</th>\n",
       "      <td>False</td>\n",
       "      <td>False</td>\n",
       "      <td>True</td>\n",
       "      <td>False</td>\n",
       "      <td>False</td>\n",
       "      <td>0</td>\n",
       "      <td>0</td>\n",
       "      <td>0</td>\n",
       "      <td>0</td>\n",
       "      <td>0</td>\n",
       "      <td>...</td>\n",
       "      <td>0</td>\n",
       "      <td>0</td>\n",
       "      <td>0</td>\n",
       "      <td>0</td>\n",
       "      <td>0</td>\n",
       "      <td>0</td>\n",
       "      <td>0</td>\n",
       "      <td>0</td>\n",
       "      <td>0</td>\n",
       "      <td>1</td>\n",
       "    </tr>\n",
       "    <tr>\n",
       "      <th>2</th>\n",
       "      <td>False</td>\n",
       "      <td>False</td>\n",
       "      <td>True</td>\n",
       "      <td>False</td>\n",
       "      <td>False</td>\n",
       "      <td>0</td>\n",
       "      <td>0</td>\n",
       "      <td>0</td>\n",
       "      <td>0</td>\n",
       "      <td>0</td>\n",
       "      <td>...</td>\n",
       "      <td>0</td>\n",
       "      <td>0</td>\n",
       "      <td>0</td>\n",
       "      <td>0</td>\n",
       "      <td>0</td>\n",
       "      <td>0</td>\n",
       "      <td>0</td>\n",
       "      <td>0</td>\n",
       "      <td>0</td>\n",
       "      <td>1</td>\n",
       "    </tr>\n",
       "    <tr>\n",
       "      <th>3</th>\n",
       "      <td>False</td>\n",
       "      <td>False</td>\n",
       "      <td>True</td>\n",
       "      <td>False</td>\n",
       "      <td>False</td>\n",
       "      <td>0</td>\n",
       "      <td>0</td>\n",
       "      <td>0</td>\n",
       "      <td>0</td>\n",
       "      <td>0</td>\n",
       "      <td>...</td>\n",
       "      <td>0</td>\n",
       "      <td>0</td>\n",
       "      <td>0</td>\n",
       "      <td>0</td>\n",
       "      <td>0</td>\n",
       "      <td>0</td>\n",
       "      <td>0</td>\n",
       "      <td>0</td>\n",
       "      <td>0</td>\n",
       "      <td>1</td>\n",
       "    </tr>\n",
       "    <tr>\n",
       "      <th>4</th>\n",
       "      <td>False</td>\n",
       "      <td>False</td>\n",
       "      <td>False</td>\n",
       "      <td>False</td>\n",
       "      <td>False</td>\n",
       "      <td>0</td>\n",
       "      <td>0</td>\n",
       "      <td>0</td>\n",
       "      <td>0</td>\n",
       "      <td>0</td>\n",
       "      <td>...</td>\n",
       "      <td>0</td>\n",
       "      <td>0</td>\n",
       "      <td>0</td>\n",
       "      <td>0</td>\n",
       "      <td>0</td>\n",
       "      <td>0</td>\n",
       "      <td>0</td>\n",
       "      <td>0</td>\n",
       "      <td>0</td>\n",
       "      <td>1</td>\n",
       "    </tr>\n",
       "    <tr>\n",
       "      <th>...</th>\n",
       "      <td>...</td>\n",
       "      <td>...</td>\n",
       "      <td>...</td>\n",
       "      <td>...</td>\n",
       "      <td>...</td>\n",
       "      <td>...</td>\n",
       "      <td>...</td>\n",
       "      <td>...</td>\n",
       "      <td>...</td>\n",
       "      <td>...</td>\n",
       "      <td>...</td>\n",
       "      <td>...</td>\n",
       "      <td>...</td>\n",
       "      <td>...</td>\n",
       "      <td>...</td>\n",
       "      <td>...</td>\n",
       "      <td>...</td>\n",
       "      <td>...</td>\n",
       "      <td>...</td>\n",
       "      <td>...</td>\n",
       "      <td>...</td>\n",
       "    </tr>\n",
       "    <tr>\n",
       "      <th>7117</th>\n",
       "      <td>False</td>\n",
       "      <td>False</td>\n",
       "      <td>True</td>\n",
       "      <td>False</td>\n",
       "      <td>False</td>\n",
       "      <td>0</td>\n",
       "      <td>0</td>\n",
       "      <td>0</td>\n",
       "      <td>0</td>\n",
       "      <td>0</td>\n",
       "      <td>...</td>\n",
       "      <td>0</td>\n",
       "      <td>0</td>\n",
       "      <td>0</td>\n",
       "      <td>0</td>\n",
       "      <td>0</td>\n",
       "      <td>0</td>\n",
       "      <td>0</td>\n",
       "      <td>0</td>\n",
       "      <td>0</td>\n",
       "      <td>1</td>\n",
       "    </tr>\n",
       "    <tr>\n",
       "      <th>7118</th>\n",
       "      <td>False</td>\n",
       "      <td>False</td>\n",
       "      <td>True</td>\n",
       "      <td>False</td>\n",
       "      <td>False</td>\n",
       "      <td>0</td>\n",
       "      <td>0</td>\n",
       "      <td>0</td>\n",
       "      <td>0</td>\n",
       "      <td>0</td>\n",
       "      <td>...</td>\n",
       "      <td>0</td>\n",
       "      <td>0</td>\n",
       "      <td>0</td>\n",
       "      <td>0</td>\n",
       "      <td>0</td>\n",
       "      <td>0</td>\n",
       "      <td>0</td>\n",
       "      <td>0</td>\n",
       "      <td>0</td>\n",
       "      <td>1</td>\n",
       "    </tr>\n",
       "    <tr>\n",
       "      <th>7119</th>\n",
       "      <td>False</td>\n",
       "      <td>False</td>\n",
       "      <td>True</td>\n",
       "      <td>False</td>\n",
       "      <td>False</td>\n",
       "      <td>0</td>\n",
       "      <td>0</td>\n",
       "      <td>0</td>\n",
       "      <td>0</td>\n",
       "      <td>0</td>\n",
       "      <td>...</td>\n",
       "      <td>0</td>\n",
       "      <td>0</td>\n",
       "      <td>0</td>\n",
       "      <td>0</td>\n",
       "      <td>0</td>\n",
       "      <td>0</td>\n",
       "      <td>0</td>\n",
       "      <td>0</td>\n",
       "      <td>0</td>\n",
       "      <td>1</td>\n",
       "    </tr>\n",
       "    <tr>\n",
       "      <th>7120</th>\n",
       "      <td>False</td>\n",
       "      <td>False</td>\n",
       "      <td>True</td>\n",
       "      <td>False</td>\n",
       "      <td>False</td>\n",
       "      <td>0</td>\n",
       "      <td>0</td>\n",
       "      <td>0</td>\n",
       "      <td>0</td>\n",
       "      <td>0</td>\n",
       "      <td>...</td>\n",
       "      <td>0</td>\n",
       "      <td>0</td>\n",
       "      <td>0</td>\n",
       "      <td>0</td>\n",
       "      <td>0</td>\n",
       "      <td>0</td>\n",
       "      <td>0</td>\n",
       "      <td>0</td>\n",
       "      <td>0</td>\n",
       "      <td>1</td>\n",
       "    </tr>\n",
       "    <tr>\n",
       "      <th>7121</th>\n",
       "      <td>False</td>\n",
       "      <td>False</td>\n",
       "      <td>True</td>\n",
       "      <td>False</td>\n",
       "      <td>False</td>\n",
       "      <td>0</td>\n",
       "      <td>0</td>\n",
       "      <td>0</td>\n",
       "      <td>0</td>\n",
       "      <td>0</td>\n",
       "      <td>...</td>\n",
       "      <td>0</td>\n",
       "      <td>0</td>\n",
       "      <td>0</td>\n",
       "      <td>0</td>\n",
       "      <td>0</td>\n",
       "      <td>0</td>\n",
       "      <td>0</td>\n",
       "      <td>0</td>\n",
       "      <td>0</td>\n",
       "      <td>1</td>\n",
       "    </tr>\n",
       "  </tbody>\n",
       "</table>\n",
       "<p>7122 rows × 72 columns</p>\n",
       "</div>"
      ],
      "text/plain": [
       "      is_mobile  is_tablet  is_pc  is_touch_capable  is_bot  Android  \\\n",
       "0          True      False  False             False   False        0   \n",
       "1         False      False   True             False   False        0   \n",
       "2         False      False   True             False   False        0   \n",
       "3         False      False   True             False   False        0   \n",
       "4         False      False  False             False   False        0   \n",
       "...         ...        ...    ...               ...     ...      ...   \n",
       "7117      False      False   True             False   False        0   \n",
       "7118      False      False   True             False   False        0   \n",
       "7119      False      False   True             False   False        0   \n",
       "7120      False      False   True             False   False        0   \n",
       "7121      False      False   True             False   False        0   \n",
       "\n",
       "      BlackBerry OS  Linux  Mac OS X  Maemo  ...  bitchcrawler  blocks/bot  \\\n",
       "0                 0      0         0      0  ...             0           0   \n",
       "1                 0      0         0      0  ...             0           0   \n",
       "2                 0      0         0      0  ...             0           0   \n",
       "3                 0      0         0      0  ...             0           0   \n",
       "4                 0      0         0      0  ...             0           0   \n",
       "...             ...    ...       ...    ...  ...           ...         ...   \n",
       "7117              0      0         0      0  ...             0           0   \n",
       "7118              0      0         0      0  ...             0           0   \n",
       "7119              0      0         0      0  ...             0           0   \n",
       "7120              0      0         0      0  ...             0           0   \n",
       "7121              0      0         0      0  ...             0           0   \n",
       "\n",
       "      bookmarksite_favicon  charlotte  divxcrawler  favicon  quot-bot  \\\n",
       "0                        0          0            0        0         0   \n",
       "1                        0          0            0        0         0   \n",
       "2                        0          0            0        0         0   \n",
       "3                        0          0            0        0         0   \n",
       "4                        0          0            0        0         0   \n",
       "...                    ...        ...          ...      ...       ...   \n",
       "7117                     0          0            0        0         0   \n",
       "7118                     0          0            0        0         0   \n",
       "7119                     0          0            0        0         0   \n",
       "7120                     0          0            0        0         0   \n",
       "7121                     0          0            0        0         0   \n",
       "\n",
       "      round-bot  scrape  result  \n",
       "0             0       0      -1  \n",
       "1             0       0       1  \n",
       "2             0       0       1  \n",
       "3             0       0       1  \n",
       "4             0       0       1  \n",
       "...         ...     ...     ...  \n",
       "7117          0       0       1  \n",
       "7118          0       0       1  \n",
       "7119          0       0       1  \n",
       "7120          0       0       1  \n",
       "7121          0       0       1  \n",
       "\n",
       "[7122 rows x 72 columns]"
      ]
     },
     "execution_count": 235,
     "metadata": {},
     "output_type": "execute_result"
    }
   ],
   "source": [
    "sample_cln"
   ]
  },
  {
   "cell_type": "code",
   "execution_count": 236,
   "metadata": {},
   "outputs": [
    {
     "data": {
      "image/png": "[encoded data removed]",
      "text/plain": [
       "<Figure size 432x288 with 1 Axes>"
      ]
     },
     "metadata": {
      "needs_background": "light"
     },
     "output_type": "display_data"
    }
   ],
   "source": [
    "#Plotting results by Bot feature\n",
    "ax=sns.countplot(x='is_bot',hue='result',data=sample_cln)\n",
    "plt.title('Classification by Bot')\n",
    "for p in ax.patches:\n",
    "    ax.annotate('{:}'.format(p.get_height()), (p.get_x()+0.15, p.get_height()+1))"
   ]
  },
  {
   "cell_type": "code",
   "execution_count": 243,
   "metadata": {},
   "outputs": [
    {
     "data": {
      "image/png": "[encoded data removed]",
      "text/plain": [
       "<Figure size 432x288 with 1 Axes>"
      ]
     },
     "metadata": {
      "needs_background": "light"
     },
     "output_type": "display_data"
    }
   ],
   "source": [
    "#Plotting results by Mobile feature\n",
    "ax=sns.countplot(x='is_mobile',hue='result',data=sample_cln)\n",
    "plt.title('Classification by Mobile')\n",
    "for p in ax.patches:\n",
    "    ax.annotate('{:}'.format(p.get_height()), (p.get_x()+0.15, p.get_height()+1))"
   ]
  },
  {
   "cell_type": "code",
   "execution_count": 245,
   "metadata": {},
   "outputs": [
    {
     "data": {
      "image/png": "[encoded data removed]",
      "text/plain": [
       "<Figure size 432x288 with 1 Axes>"
      ]
     },
     "metadata": {
      "needs_background": "light"
     },
     "output_type": "display_data"
    }
   ],
   "source": [
    "#Plotting results by Tablet feature\n",
    "ax=sns.countplot(x='is_tablet',hue='result',data=sample_cln)\n",
    "plt.title('Classification by Tablet')\n",
    "for p in ax.patches:\n",
    "    ax.annotate('{:}'.format(p.get_height()), (p.get_x()+0.15, p.get_height()+1))"
   ]
  },
  {
   "cell_type": "code",
   "execution_count": 246,
   "metadata": {},
   "outputs": [
    {
     "data": {
      "image/png": "[encoded data removed]",
      "text/plain": [
       "<Figure size 432x288 with 1 Axes>"
      ]
     },
     "metadata": {
      "needs_background": "light"
     },
     "output_type": "display_data"
    }
   ],
   "source": [
    "#Plotting results by Touch Capable feature\n",
    "ax=sns.countplot(x='is_touch_capable',hue='result',data=sample_cln)\n",
    "plt.title('Classification by Touch Capability')\n",
    "for p in ax.patches:\n",
    "    ax.annotate('{:}'.format(p.get_height()), (p.get_x()+0.15, p.get_height()+1))"
   ]
  },
  {
   "cell_type": "markdown",
   "metadata": {},
   "source": [
    "#### Model appears to discriminate against mobile based traffic"
   ]
  },
  {
   "cell_type": "code",
   "execution_count": 85,
   "metadata": {},
   "outputs": [
    {
     "data": {
      "text/html": [
       "<div>\n",
       "<style scoped>\n",
       "    .dataframe tbody tr th:only-of-type {\n",
       "        vertical-align: middle;\n",
       "    }\n",
       "\n",
       "    .dataframe tbody tr th {\n",
       "        vertical-align: top;\n",
       "    }\n",
       "\n",
       "    .dataframe thead th {\n",
       "        text-align: right;\n",
       "    }\n",
       "</style>\n",
       "<table border=\"1\" class=\"dataframe\">\n",
       "  <thead>\n",
       "    <tr style=\"text-align: right;\">\n",
       "      <th></th>\n",
       "      <th>is_mobile</th>\n",
       "      <th>is_tablet</th>\n",
       "      <th>is_pc</th>\n",
       "      <th>is_touch_capable</th>\n",
       "      <th>is_bot</th>\n",
       "      <th>Android</th>\n",
       "      <th>BlackBerry OS</th>\n",
       "      <th>Linux</th>\n",
       "      <th>Mac OS X</th>\n",
       "      <th>Maemo</th>\n",
       "      <th>...</th>\n",
       "      <th>bitchcrawler</th>\n",
       "      <th>blocks/bot</th>\n",
       "      <th>bookmarksite_favicon</th>\n",
       "      <th>charlotte</th>\n",
       "      <th>divxcrawler</th>\n",
       "      <th>favicon</th>\n",
       "      <th>quot-bot</th>\n",
       "      <th>round-bot</th>\n",
       "      <th>scrape</th>\n",
       "      <th>result</th>\n",
       "    </tr>\n",
       "  </thead>\n",
       "  <tbody>\n",
       "    <tr>\n",
       "      <th>0</th>\n",
       "      <td>True</td>\n",
       "      <td>False</td>\n",
       "      <td>False</td>\n",
       "      <td>False</td>\n",
       "      <td>False</td>\n",
       "      <td>0</td>\n",
       "      <td>0</td>\n",
       "      <td>0</td>\n",
       "      <td>0</td>\n",
       "      <td>0</td>\n",
       "      <td>...</td>\n",
       "      <td>0</td>\n",
       "      <td>0</td>\n",
       "      <td>0</td>\n",
       "      <td>0</td>\n",
       "      <td>0</td>\n",
       "      <td>0</td>\n",
       "      <td>0</td>\n",
       "      <td>0</td>\n",
       "      <td>0</td>\n",
       "      <td>-1</td>\n",
       "    </tr>\n",
       "    <tr>\n",
       "      <th>6</th>\n",
       "      <td>False</td>\n",
       "      <td>True</td>\n",
       "      <td>False</td>\n",
       "      <td>True</td>\n",
       "      <td>False</td>\n",
       "      <td>0</td>\n",
       "      <td>0</td>\n",
       "      <td>0</td>\n",
       "      <td>0</td>\n",
       "      <td>0</td>\n",
       "      <td>...</td>\n",
       "      <td>0</td>\n",
       "      <td>0</td>\n",
       "      <td>0</td>\n",
       "      <td>0</td>\n",
       "      <td>0</td>\n",
       "      <td>0</td>\n",
       "      <td>0</td>\n",
       "      <td>0</td>\n",
       "      <td>0</td>\n",
       "      <td>-1</td>\n",
       "    </tr>\n",
       "    <tr>\n",
       "      <th>59</th>\n",
       "      <td>True</td>\n",
       "      <td>False</td>\n",
       "      <td>False</td>\n",
       "      <td>False</td>\n",
       "      <td>False</td>\n",
       "      <td>0</td>\n",
       "      <td>0</td>\n",
       "      <td>0</td>\n",
       "      <td>0</td>\n",
       "      <td>0</td>\n",
       "      <td>...</td>\n",
       "      <td>0</td>\n",
       "      <td>0</td>\n",
       "      <td>0</td>\n",
       "      <td>0</td>\n",
       "      <td>0</td>\n",
       "      <td>0</td>\n",
       "      <td>0</td>\n",
       "      <td>0</td>\n",
       "      <td>0</td>\n",
       "      <td>-1</td>\n",
       "    </tr>\n",
       "    <tr>\n",
       "      <th>332</th>\n",
       "      <td>False</td>\n",
       "      <td>True</td>\n",
       "      <td>False</td>\n",
       "      <td>True</td>\n",
       "      <td>False</td>\n",
       "      <td>0</td>\n",
       "      <td>0</td>\n",
       "      <td>0</td>\n",
       "      <td>0</td>\n",
       "      <td>0</td>\n",
       "      <td>...</td>\n",
       "      <td>0</td>\n",
       "      <td>0</td>\n",
       "      <td>0</td>\n",
       "      <td>0</td>\n",
       "      <td>0</td>\n",
       "      <td>0</td>\n",
       "      <td>0</td>\n",
       "      <td>0</td>\n",
       "      <td>0</td>\n",
       "      <td>-1</td>\n",
       "    </tr>\n",
       "    <tr>\n",
       "      <th>340</th>\n",
       "      <td>False</td>\n",
       "      <td>True</td>\n",
       "      <td>False</td>\n",
       "      <td>True</td>\n",
       "      <td>False</td>\n",
       "      <td>0</td>\n",
       "      <td>0</td>\n",
       "      <td>0</td>\n",
       "      <td>0</td>\n",
       "      <td>0</td>\n",
       "      <td>...</td>\n",
       "      <td>0</td>\n",
       "      <td>0</td>\n",
       "      <td>0</td>\n",
       "      <td>0</td>\n",
       "      <td>0</td>\n",
       "      <td>0</td>\n",
       "      <td>0</td>\n",
       "      <td>0</td>\n",
       "      <td>0</td>\n",
       "      <td>-1</td>\n",
       "    </tr>\n",
       "    <tr>\n",
       "      <th>...</th>\n",
       "      <td>...</td>\n",
       "      <td>...</td>\n",
       "      <td>...</td>\n",
       "      <td>...</td>\n",
       "      <td>...</td>\n",
       "      <td>...</td>\n",
       "      <td>...</td>\n",
       "      <td>...</td>\n",
       "      <td>...</td>\n",
       "      <td>...</td>\n",
       "      <td>...</td>\n",
       "      <td>...</td>\n",
       "      <td>...</td>\n",
       "      <td>...</td>\n",
       "      <td>...</td>\n",
       "      <td>...</td>\n",
       "      <td>...</td>\n",
       "      <td>...</td>\n",
       "      <td>...</td>\n",
       "      <td>...</td>\n",
       "      <td>...</td>\n",
       "    </tr>\n",
       "    <tr>\n",
       "      <th>6850</th>\n",
       "      <td>False</td>\n",
       "      <td>True</td>\n",
       "      <td>False</td>\n",
       "      <td>True</td>\n",
       "      <td>False</td>\n",
       "      <td>0</td>\n",
       "      <td>0</td>\n",
       "      <td>0</td>\n",
       "      <td>0</td>\n",
       "      <td>0</td>\n",
       "      <td>...</td>\n",
       "      <td>0</td>\n",
       "      <td>0</td>\n",
       "      <td>0</td>\n",
       "      <td>0</td>\n",
       "      <td>0</td>\n",
       "      <td>0</td>\n",
       "      <td>0</td>\n",
       "      <td>0</td>\n",
       "      <td>0</td>\n",
       "      <td>-1</td>\n",
       "    </tr>\n",
       "    <tr>\n",
       "      <th>7000</th>\n",
       "      <td>False</td>\n",
       "      <td>True</td>\n",
       "      <td>False</td>\n",
       "      <td>True</td>\n",
       "      <td>False</td>\n",
       "      <td>0</td>\n",
       "      <td>0</td>\n",
       "      <td>0</td>\n",
       "      <td>0</td>\n",
       "      <td>0</td>\n",
       "      <td>...</td>\n",
       "      <td>0</td>\n",
       "      <td>0</td>\n",
       "      <td>0</td>\n",
       "      <td>0</td>\n",
       "      <td>0</td>\n",
       "      <td>0</td>\n",
       "      <td>0</td>\n",
       "      <td>0</td>\n",
       "      <td>0</td>\n",
       "      <td>-1</td>\n",
       "    </tr>\n",
       "    <tr>\n",
       "      <th>7022</th>\n",
       "      <td>False</td>\n",
       "      <td>True</td>\n",
       "      <td>False</td>\n",
       "      <td>True</td>\n",
       "      <td>False</td>\n",
       "      <td>0</td>\n",
       "      <td>0</td>\n",
       "      <td>0</td>\n",
       "      <td>0</td>\n",
       "      <td>0</td>\n",
       "      <td>...</td>\n",
       "      <td>0</td>\n",
       "      <td>0</td>\n",
       "      <td>0</td>\n",
       "      <td>0</td>\n",
       "      <td>0</td>\n",
       "      <td>0</td>\n",
       "      <td>0</td>\n",
       "      <td>0</td>\n",
       "      <td>0</td>\n",
       "      <td>-1</td>\n",
       "    </tr>\n",
       "    <tr>\n",
       "      <th>7023</th>\n",
       "      <td>False</td>\n",
       "      <td>True</td>\n",
       "      <td>False</td>\n",
       "      <td>True</td>\n",
       "      <td>False</td>\n",
       "      <td>0</td>\n",
       "      <td>0</td>\n",
       "      <td>0</td>\n",
       "      <td>0</td>\n",
       "      <td>0</td>\n",
       "      <td>...</td>\n",
       "      <td>0</td>\n",
       "      <td>0</td>\n",
       "      <td>0</td>\n",
       "      <td>0</td>\n",
       "      <td>0</td>\n",
       "      <td>0</td>\n",
       "      <td>0</td>\n",
       "      <td>0</td>\n",
       "      <td>0</td>\n",
       "      <td>-1</td>\n",
       "    </tr>\n",
       "    <tr>\n",
       "      <th>7055</th>\n",
       "      <td>True</td>\n",
       "      <td>False</td>\n",
       "      <td>False</td>\n",
       "      <td>False</td>\n",
       "      <td>False</td>\n",
       "      <td>0</td>\n",
       "      <td>0</td>\n",
       "      <td>0</td>\n",
       "      <td>0</td>\n",
       "      <td>0</td>\n",
       "      <td>...</td>\n",
       "      <td>0</td>\n",
       "      <td>0</td>\n",
       "      <td>0</td>\n",
       "      <td>0</td>\n",
       "      <td>0</td>\n",
       "      <td>0</td>\n",
       "      <td>0</td>\n",
       "      <td>0</td>\n",
       "      <td>0</td>\n",
       "      <td>-1</td>\n",
       "    </tr>\n",
       "  </tbody>\n",
       "</table>\n",
       "<p>128 rows × 72 columns</p>\n",
       "</div>"
      ],
      "text/plain": [
       "      is_mobile  is_tablet  is_pc  is_touch_capable  is_bot  Android  \\\n",
       "0          True      False  False             False   False        0   \n",
       "6         False       True  False              True   False        0   \n",
       "59         True      False  False             False   False        0   \n",
       "332       False       True  False              True   False        0   \n",
       "340       False       True  False              True   False        0   \n",
       "...         ...        ...    ...               ...     ...      ...   \n",
       "6850      False       True  False              True   False        0   \n",
       "7000      False       True  False              True   False        0   \n",
       "7022      False       True  False              True   False        0   \n",
       "7023      False       True  False              True   False        0   \n",
       "7055       True      False  False             False   False        0   \n",
       "\n",
       "      BlackBerry OS  Linux  Mac OS X  Maemo  ...  bitchcrawler  blocks/bot  \\\n",
       "0                 0      0         0      0  ...             0           0   \n",
       "6                 0      0         0      0  ...             0           0   \n",
       "59                0      0         0      0  ...             0           0   \n",
       "332               0      0         0      0  ...             0           0   \n",
       "340               0      0         0      0  ...             0           0   \n",
       "...             ...    ...       ...    ...  ...           ...         ...   \n",
       "6850              0      0         0      0  ...             0           0   \n",
       "7000              0      0         0      0  ...             0           0   \n",
       "7022              0      0         0      0  ...             0           0   \n",
       "7023              0      0         0      0  ...             0           0   \n",
       "7055              0      0         0      0  ...             0           0   \n",
       "\n",
       "      bookmarksite_favicon  charlotte  divxcrawler  favicon  quot-bot  \\\n",
       "0                        0          0            0        0         0   \n",
       "6                        0          0            0        0         0   \n",
       "59                       0          0            0        0         0   \n",
       "332                      0          0            0        0         0   \n",
       "340                      0          0            0        0         0   \n",
       "...                    ...        ...          ...      ...       ...   \n",
       "6850                     0          0            0        0         0   \n",
       "7000                     0          0            0        0         0   \n",
       "7022                     0          0            0        0         0   \n",
       "7023                     0          0            0        0         0   \n",
       "7055                     0          0            0        0         0   \n",
       "\n",
       "      round-bot  scrape  result  \n",
       "0             0       0      -1  \n",
       "6             0       0      -1  \n",
       "59            0       0      -1  \n",
       "332           0       0      -1  \n",
       "340           0       0      -1  \n",
       "...         ...     ...     ...  \n",
       "6850          0       0      -1  \n",
       "7000          0       0      -1  \n",
       "7022          0       0      -1  \n",
       "7023          0       0      -1  \n",
       "7055          0       0      -1  \n",
       "\n",
       "[128 rows x 72 columns]"
      ]
     },
     "execution_count": 85,
     "metadata": {},
     "output_type": "execute_result"
    }
   ],
   "source": [
    "sample_cln[result==-1]"
   ]
  },
  {
   "cell_type": "code",
   "execution_count": 162,
   "metadata": {},
   "outputs": [
    {
     "data": {
      "text/plain": [
       "['clf.pkl']"
      ]
     },
     "execution_count": 162,
     "metadata": {},
     "output_type": "execute_result"
    }
   ],
   "source": [
    "#Persisting model parameters\n",
    "train_columns=set(sample_cln.columns)-set('result')\n",
    "train_columns_order=sample_cln.columns[:-1]\n",
    "joblib.dump(train_columns,'train_columns.pkl')\n",
    "joblib.dump(train_columns_order,'train_columns_order.pkl')\n",
    "joblib.dump(clf,'clf.pkl')"
   ]
  },
  {
   "cell_type": "markdown",
   "metadata": {},
   "source": [
    "### Deployment code"
   ]
  },
  {
   "cell_type": "code",
   "execution_count": 10,
   "metadata": {},
   "outputs": [],
   "source": [
    "#Loading model parameters\n",
    "clf = joblib.load('clf.pkl')\n",
    "train_columns =joblib.load('train_columns.pkl')\n",
    "train_columns_order=joblib.load('train_columns_order.pkl')"
   ]
  },
  {
   "cell_type": "code",
   "execution_count": 24,
   "metadata": {},
   "outputs": [],
   "source": [
    "def predict(ua_str,clf,train_columns,train_columns_order):\n",
    "    benign=pd.DataFrame([ua_str])\n",
    "    benign.columns=['user_agent']\n",
    "    benign['timestamp']=benign['user_agent'].apply(lambda x: re.findall(r'^\\[(.+?)\\]',x)[0])\n",
    "    benign['timestamp_obj']=benign['timestamp'].apply(lambda x:pd.to_datetime(x,format='%d/%b/%Y:%H:%M:%S -0700',errors='coerce'))\n",
    "    benign['min']=benign['timestamp_obj'].apply(lambda x:(x.hour,x.minute))\n",
    "    sample=benign\n",
    "    sample['user_id']=benign['user_agent'].apply(lambda x: re.findall(r'user_\\d+|Nico Rosberg',x)[0])\n",
    "    sample['browser_family']=sample['user_agent'].apply(lambda x:parse(x).browser.family)\n",
    "    sample['browser_version']=sample['user_agent'].apply(lambda x:parse(x).browser.version_string)\n",
    "    sample['os_family']=sample['user_agent'].apply(lambda x:parse(x).os.family)\n",
    "    sample['os_version']=sample['user_agent'].apply(lambda x:parse(x).os.version_string)\n",
    "    sample['device_family']=sample['user_agent'].apply(lambda x:parse(x).device.family)\n",
    "    sample['device_brand']=sample['user_agent'].apply(lambda x:parse(x).device.brand)\n",
    "    sample['device_model']=sample['user_agent'].apply(lambda x:parse(x).device.model)\n",
    "    sample['is_mobile']=sample['user_agent'].apply(lambda x:parse(x).is_mobile)\n",
    "    sample['is_tablet']=sample['user_agent'].apply(lambda x:parse(x).is_tablet)\n",
    "    sample['is_pc']=sample['user_agent'].apply(lambda x:parse(x).is_pc)\n",
    "    sample['is_touch_capable']=sample['user_agent'].apply(lambda x:parse(x).is_touch_capable)\n",
    "    sample['is_bot']=sample['user_agent'].apply(lambda x:parse(x).is_bot)\n",
    "    sample_cln=sample.drop(['user_agent','timestamp','timestamp_obj','min','os_version','browser_version','device_family','device_brand','device_model'],axis=1)\n",
    "    sample_cln=pd.concat([sample_cln,pd.get_dummies(sample_cln['os_family'])],axis=1).drop(['os_family'],axis=1)\n",
    "    sample_cln=pd.concat([sample_cln,pd.get_dummies(sample_cln['browser_family'])],axis=1).drop(['browser_family'],axis=1)\n",
    "\n",
    "        \n",
    "    # Get columns missing from test sample\n",
    "    missing_cols = train_columns - set(sample_cln.columns)\n",
    "    # Add missing column and set to zero\n",
    "    for c in missing_cols:\n",
    "        sample_cln[c] = 0\n",
    "    # Reset column order\n",
    "    sample_cln = sample_cln[train_columns_order]\n",
    "    \n",
    "    X=sample_cln.values\n",
    "    \n",
    "\n",
    "    try:\n",
    "        result=clf.predict(X)\n",
    "        if result==1:\n",
    "            classification='benign'\n",
    "        else:\n",
    "            classification='non_benign'\n",
    "    \n",
    "        msg=sample['user_id'][0]+' is '+classification+' ***  Browser:'+sample['browser_family'][0]+'  Mobile:'+ ('yes' if sample['is_mobile'][0] else 'no')\n",
    "    \n",
    "        return msg\n",
    "    except:\n",
    "        return \n",
    "           "
   ]
  },
  {
   "cell_type": "markdown",
   "metadata": {},
   "source": [
    "### Bonus"
   ]
  },
  {
   "cell_type": "code",
   "execution_count": null,
   "metadata": {},
   "outputs": [],
   "source": [
    "#Downloading data\n",
    "!svn checkout https://github.com/jzadeh/aktaion/trunk/data/proxyData/exploitData"
   ]
  },
  {
   "cell_type": "code",
   "execution_count": 4,
   "metadata": {},
   "outputs": [
    {
     "data": {
      "text/plain": [
       "['.svn',\n",
       " '2014-01-02-neutrino-exploit-traffic.webgateway',\n",
       " '2014-01-07-neutrino-exploit-traffic.webgateway',\n",
       " '2014-01-09-DotkaChef-EK-traffic.webgateway',\n",
       " '2014-01-09-more-DotkaChef-EK-traffic.webgateway',\n",
       " '2014-01-13-Goon-EK-traffic.webgateway',\n",
       " '2014-01-14-magnitude-EK.webgateway',\n",
       " '2014-01-20-styx-EK-traffic.webgateway',\n",
       " '2014-01-21-Neutrino-EK-traffic.webgateway',\n",
       " '2014-01-24-Nuclear-EK-traffic.webgateway',\n",
       " '2014-01-26-Sweet-Orange-EK.webgateway',\n",
       " '2014-02-01-Fiesta-EK-silverlight.webgateway',\n",
       " '2014-02-02-Neutrino-EK-java-exploit.webgateway',\n",
       " '2014-02-02-Neutrino-EK-silverlight-exploit.webgateway',\n",
       " '2014-02-03-Goon-EK-traffic.webgateway',\n",
       " '2014-02-03-Neutrino-EK-traffic-01.webgateway',\n",
       " '2014-02-03-Neutrino-EK-traffic-02.webgateway',\n",
       " '2014-02-03-Nuclear-EK-traffic.webgateway',\n",
       " '2014-02-04-sweet-orange-EK-traffic.webgateway',\n",
       " '2014-02-07-Fiesta-EK-traffic.webgateway',\n",
       " '2014-02-09-Neutrino-EK-traffic.webgateway',\n",
       " '2014-02-11-Fiesta-EK-traffic.webgateway',\n",
       " '2014-02-12-Fiesta-EK-traffic.webgateway',\n",
       " '2014-02-13-Goon-EK-traffic.webgateway',\n",
       " '2014-02-18-Fiesta-EK-traffic.webgateway',\n",
       " '2014-02-19-Goon-EK-traffic.disable',\n",
       " '2014-02-21-Fiesta-EK-traffic.webgateway',\n",
       " '2014-02-22-Neutrino-and-Nuclear-EK-traffic.disable',\n",
       " '2014-02-26-Angler-EK-traffic-02.webgateway',\n",
       " '2014-02-26-Angler-EK-traffic.webgateway',\n",
       " '2014-02-28-Fiesta-EK-traffic.webgateway',\n",
       " '2014-03-01-Neutrino-EK-traffic.webgateway',\n",
       " '2014-03-02-Fiesta-EK-traffic.webgateway',\n",
       " '2014-03-04-Hello-EK-traffic.webgateway',\n",
       " '2014-03-05-Goon-EK-traffic.webgateway',\n",
       " '2014-03-07-Goon-EK-traffic.webgateway',\n",
       " '2014-03-08-Neutrino-EK-traffic.webgateway',\n",
       " '2014-03-09-Fiesta-EK-traffic-failed-attempt.webgateway',\n",
       " '2014-03-09-Fiesta-EK-traffic-successful-attempt.webgateway',\n",
       " '2014-03-09-callback-traffic-from-physical-host.webgateway',\n",
       " '2014-03-10-Goon-EK-traffic.webgateway',\n",
       " '2014-03-11-Fiesta-EK-traffic.webgateway',\n",
       " '2014-03-12-Magnitude-EK-traffic.webgateway',\n",
       " '2014-03-13-Fiesta-EK-traffic.webgateway',\n",
       " '2014-03-14-Goon-EK-traffic.webgateway',\n",
       " '2014-03-15-Styx-EK-traffic.webgateway',\n",
       " '2014-03-16-Fiesta-EK-traffic.webgateway',\n",
       " '2014-03-17-Zuponcic-EK-traffic.webgateway',\n",
       " '2014-03-18-Fiesta-EK-traffic.webgateway',\n",
       " '2014-03-19-Goon-EK-traffic.webgateway',\n",
       " '2014-03-22-Fiesta-EK-java-exploit.webgateway',\n",
       " '2014-03-22-Fiesta-EK-silverlight-exploit.webgateway',\n",
       " '2014-03-23-Angler-EK-traffic.webgateway',\n",
       " '2014-03-25-Magnitude-EK-traffic.webgateway',\n",
       " '2014-03-26-Fiesta-EK-traffic.webgateway',\n",
       " '2014-03-27-Nuclear-EK-traffic.webgateway',\n",
       " '2014-03-28-Fiesta-EK-traffic.webgateway',\n",
       " '2014-03-29-FlashPack-EK-traffic.webgateway',\n",
       " '2014-03-31-Fiesta-EK-traffic-01.webgateway',\n",
       " '2014-03-31-Fiesta-EK-traffic-02.webgateway',\n",
       " '2014-04-01-Fiesta-EK-traffic.webgateway',\n",
       " '2014-04-02-Goon-EK-traffic.webgateway',\n",
       " '2014-04-03-FlashPack-EK-traffic.webgateway',\n",
       " '2014-04-04-Fiesta-EK-traffic.webgateway',\n",
       " '2014-04-05-Fiesta-EK-traffic.webgateway',\n",
       " '2014-04-06-Goon-EK-traffic.webgateway',\n",
       " '2014-04-07-Nuclear-EK-traffic.webgateway',\n",
       " '2014-04-08-Fiesta-EK-traffic.webgateway',\n",
       " '2014-04-09-Nuclear-EK-traffic.webgateway',\n",
       " '2014-04-10-Nuclear-EK-traffic.webgateway',\n",
       " '2014-04-11-Fiesta-EK-traffic.webgateway',\n",
       " '2014-04-12-FlashPack-EK-traffic.webgateway',\n",
       " '2014-04-13-FlashPack-EK-traffic.webgateway',\n",
       " '2014-04-14-Magnitude-EK-traffic.webgateway',\n",
       " '2014-04-15-Goon-EK-exploit-example-hour-after.webgateway',\n",
       " '2014-04-15-Goon-EK-exploit-example-hour-before.webgateway',\n",
       " '2014-04-15-Goon-EK-exploit-examples.webgateway',\n",
       " '2014-04-15-Magnitude-EK-traffic.webgateway',\n",
       " '2014-04-16-Fiesta-EK-traffic.webgateway',\n",
       " '2014-04-16-Magnitude-EK-traffic.webgateway',\n",
       " '2014-04-17-FlashPack-EK-traffic.webgateway',\n",
       " '2014-04-17-Magnitude-EK-traffic.webgateway',\n",
       " '2014-04-18-Fiesta-EK-traffic.webgateway',\n",
       " '2014-04-20-Sweet-Orange-EK-traffic.webgateway',\n",
       " '2014-04-22-Angler-EK-traffic-01.webgateway',\n",
       " '2014-04-22-Angler-EK-traffic-02.webgateway',\n",
       " '2014-04-22-Angler-EK-traffic-03.webgateway',\n",
       " '2014-04-22-Angler-EK-traffic-04.webgateway',\n",
       " '2014-04-23-Goon-EK-traffic.webgateway',\n",
       " '2014-04-26-Magnitude-EK-traffic.webgateway',\n",
       " '2014-04-27-Nuclear-EK-traffic.webgateway',\n",
       " '2014-04-28-Angler-EK-traffic-using-flash-exploit.webgateway',\n",
       " '2014-04-28-Angler-EK-traffic-using-java-exploit.webgateway',\n",
       " '2014-04-28-Angler-EK-traffic-using-silverlight-exploit.webgateway',\n",
       " '2014-04-29-Angler-EK-traffic.webgateway',\n",
       " '2014-04-30-Magnitude-EK-traffic.webgateway',\n",
       " '2014-05-01-Angler-EK-traffic.webgateway',\n",
       " '2014-05-01-Magnitude-EK-traffic.webgateway',\n",
       " '2014-05-02-Angler-EK-traffic.webgateway',\n",
       " '2014-05-02-Magnitude-EK-traffic.webgateway',\n",
       " '2014-05-04-Angler-EK-traffic-01.webgateway',\n",
       " '2014-05-04-Angler-EK-traffic-02.webgateway',\n",
       " '2014-05-05-Sweet-Orange-EK-traffic.webgateway',\n",
       " '2014-05-06-FlashPack-EK-traffic.webgateway',\n",
       " '2014-05-07-Angler-EK-traffic.webgateway',\n",
       " '2014-05-07-Goon-EK-traffic.webgateway',\n",
       " '2014-05-07-Nuclear-EK-traffic.webgateway',\n",
       " '2014-05-08-Nuclear-EK-traffic-08.webgateway',\n",
       " '2014-05-09-Fiesta-EK-traffic.webgateway',\n",
       " '2014-05-10-Goon-EK-traffic.webgateway',\n",
       " '2014-05-11-FlashPack-EK-traffic.webgateway',\n",
       " '2014-05-12-Fiesta-EK-traffic.webgateway',\n",
       " '2014-05-13-Angler-EK-traffic.webgateway',\n",
       " '2014-05-13-Nuclear-EK-traffic.webgateway',\n",
       " '2014-05-14-Rig-EK-traffic.webgateway',\n",
       " '2014-05-16-Nuclear-EK-traffic.webgateway',\n",
       " '2014-05-16-Rig-EK-traffic.webgateway',\n",
       " '2014-05-18-Fiesta-EK-traffic.webgateway',\n",
       " '2014-05-19-FlashPack-EK-traffic.webgateway',\n",
       " '2014-05-20-Rig-EK-traffic.webgateway',\n",
       " '2014-05-21-Fiesta-EK-traffic.webgateway',\n",
       " '2014-05-21-Sweet-Orange-EK-traffic.webgateway',\n",
       " '2014-05-22-Fiesta-EK-traffic-01.webgateway',\n",
       " '2014-05-22-Fiesta-EK-traffic-02.webgateway',\n",
       " '2014-05-22-Fiesta-EK-traffic-03.webgateway',\n",
       " '2014-05-23-Angler-EK-uses-flash-exploit.webgateway',\n",
       " '2014-05-23-Angler-EK-uses-java-exploit.webgateway',\n",
       " '2014-05-23-Angler-EK-uses-silverlight-exploit.webgateway',\n",
       " '2014-05-24-FlashPack-EK-traffic.webgateway',\n",
       " '2014-05-25-Angler-EK-traffic.webgateway',\n",
       " '2014-05-26-Nuclear-EK-traffic.webgateway',\n",
       " '2014-05-27-Fiesta-EK-malware-payload-run-on-physical-host.webgateway',\n",
       " '2014-05-27-Fiesta-EK-traffic.webgateway',\n",
       " '2014-05-28-Angler-EK-uses-flash-exploit.webgateway',\n",
       " '2014-05-28-Angler-EK-uses-java-exploit.webgateway',\n",
       " '2014-05-28-Angler-EK-uses-silverlight-exploit.webgateway',\n",
       " '2014-05-29-FlashPack-EK-traffic.webgateway',\n",
       " '2014-05-30-Rig-EK-traffic-using-IE10.webgateway',\n",
       " '2014-05-30-Rig-EK-traffic.webgateway',\n",
       " '2014-06-01-Infinity-EK-traffic.webgateway',\n",
       " '2014-06-01-exe.exe-sandbox-analysis.webgateway',\n",
       " '2014-06-01-malware-payload-sandbox-analysis.webgateway',\n",
       " '2014-06-02-Angler-EK-malware-payload-sandbox-traffic.webgateway',\n",
       " '2014-06-02-Angler-EK-traffic.webgateway',\n",
       " '2014-06-02-Nuclear-EK.webgateway',\n",
       " '2014-06-03-Angler-EK-malware-payload-sandbox-traffic.webgateway',\n",
       " '2014-06-03-Angler-EK-traffic.webgateway',\n",
       " '2014-06-04-Infinity-EK-traffic.webgateway',\n",
       " '2014-06-05-Fiesta-EK-traffic.webgateway',\n",
       " '2014-06-06-FlashPack-EK-traffic.webgateway',\n",
       " '2014-06-07-Fiesta-EK-traffic.webgateway',\n",
       " '2014-06-08-Infinity-EK-traffic.webgateway',\n",
       " '2014-06-09-Nuclear-EK-traffic.webgateway',\n",
       " '2014-06-10-FlashPack-EK-traffic.webgateway',\n",
       " '2014-06-11-Fiesta-EK-malware-payload-sandbox-traffic.webgateway',\n",
       " '2014-06-11-Fiesta-EK-traffic.webgateway',\n",
       " '2014-06-13-Fake-flash-updater-traffic.webgateway',\n",
       " '2014-06-14-Fiesta-EK-traffic.webgateway',\n",
       " '2014-06-15-Nuclear-EK-traffic.webgateway',\n",
       " '2014-06-16-FlashPack-EK-traffic-first-run.webgateway',\n",
       " '2014-06-16-FlashPack-EK-traffic-second-run.webgateway',\n",
       " '2014-06-17-Magnitude-EK-traffic-first-run.webgateway',\n",
       " '2014-06-17-Magnitude-EK-traffic-second-run.webgateway',\n",
       " '2014-06-18-fake-Flash-installer-sandbox-analysis.webgateway',\n",
       " '2014-06-18-fake-Flash-installer-traffic.webgateway',\n",
       " '2014-06-19-Nuclear-EK-traffic.webgateway',\n",
       " '2014-06-20-Angler-EK-traffic.webgateway',\n",
       " '2014-06-21-Fiesta-EK-malware-payload-sandbox-analysis.webgateway',\n",
       " '2014-06-21-Fiesta-EK-traffic.webgateway',\n",
       " '2014-06-22-Nuclear-EK-traffic.webgateway',\n",
       " '2014-06-23-FlashPack-EK-uses-CVE-2013-2551-first-run.webgateway',\n",
       " '2014-06-23-FlashPack-EK-uses-CVE-2013-2551-second-run.webgateway',\n",
       " '2014-06-23-FlashPack-EK-with-IE-10-failed-attempt.webgateway',\n",
       " '2014-06-23-FlashPack-EK-with-IE-11-successful-infection.webgateway',\n",
       " '2014-06-24-Angler-EK-traffic.webgateway',\n",
       " '2014-06-24-Magnitude-EK-traffic.webgateway',\n",
       " '2014-06-25-Nuclear-EK-traffic.webgateway',\n",
       " '2014-06-26-Fiesta-EK-traffic.webgateway',\n",
       " '2014-06-27-Nuclear-EK-traffic.webgateway',\n",
       " '2014-06-27-fake-USPS-notification-sandbox-analysis.webgateway',\n",
       " '2014-06-28-Sweet-Orange-EK-traffic.webgateway',\n",
       " '2014-06-29-Magnitude-EK-traffic.webgateway',\n",
       " '2014-06-30-Infinity-EK-traffic.webgateway',\n",
       " '2014-07-02-fake-Flash-installer-download.webgateway',\n",
       " '2014-07-02-fake-Flash-installer-sandbox-analysis.webgateway',\n",
       " '2014-07-03-Nuclear-EK-traffic.webgateway',\n",
       " '2014-07-04-Nuclear-EK-malware-payload-sandbox-analysis.webgateway',\n",
       " '2014-07-04-Nuclear-EK-traffic.webgateway',\n",
       " '2014-07-08-Asprox-malware-download.webgateway',\n",
       " '2014-07-08-Asprox-malware-sandbox-analysis.webgateway',\n",
       " '2014-07-08-Sweet-Orange-EK-traffic.webgateway',\n",
       " '2014-07-09-Asprox-email-download-links.webgateway',\n",
       " '2014-07-09-Asprox-malware-sandbox-analysis-02.webgateway',\n",
       " '2014-07-09-Fiesta-EK-malware-sandbox-analysis.webgateway',\n",
       " '2014-07-09-Zuponcic-EK-traffic-java-6u25.webgateway',\n",
       " '2014-07-09-Zuponcic-EK-traffic-java-7u13.webgateway',\n",
       " '2014-07-10-Nuclear-EK-traffic.webgateway',\n",
       " '2014-07-11-Angler-EK-traffic.webgateway',\n",
       " '2014-07-11-phishing-malware-sandbox-analysis.webgateway',\n",
       " '2014-07-12-Angler-EK-traffic.webgateway',\n",
       " '2014-07-14-Rig-EK-failed-infection-with-java.webgateway',\n",
       " '2014-07-14-Rig-EK-successful-infection.webgateway',\n",
       " '2014-07-15-Magnitude-EK-traffic.webgateway',\n",
       " '2014-07-16-phishing-email-malware-sandbox-analysis.webgateway',\n",
       " '2014-07-18-FlashPack-EK-traffic.webgateway',\n",
       " '2014-07-19-FlashPack-EK-traffic.webgateway',\n",
       " '2014-07-19-Nuclear-EK-malware-payload-sandbox-analysis-01.webgateway',\n",
       " '2014-07-19-Nuclear-EK-malware-payload-sandbox-analysis-02.webgateway',\n",
       " '2014-07-19-Nuclear-EK-traffic.webgateway',\n",
       " '2014-07-22-Fiesta-EK-traffic.webgateway',\n",
       " '2014-07-23-FlashPack-EK-traffic.webgateway',\n",
       " '2014-07-24-Sweet-Orange-EK-traffic.webgateway',\n",
       " '2014-07-25-Rig-EK-traffic.webgateway',\n",
       " '2014-07-26-Rig-EK-traffic.webgateway',\n",
       " '2014-07-27-Fiesta-EK-traffic.webgateway',\n",
       " '2014-07-28-Angler-EK-traffic.webgateway',\n",
       " '2014-07-30-FlashPack-EK-traffic.webgateway',\n",
       " '2014-07-30-Rig-EK-traffic.webgateway',\n",
       " '2014-08-01-Nuclear-EK-traffic.webgateway',\n",
       " '2014-08-06-Nuclear-EK-traffic.webgateway',\n",
       " '2014-08-08-FlashPack-EK-traffic.webgateway',\n",
       " '2014-08-09-Fiesta-EK-traffic.webgateway',\n",
       " '2014-08-11-FlashPack-EK-traffic.webgateway',\n",
       " '2014-08-12-Nuclear-EK-traffic.webgateway',\n",
       " '2014-08-14-Fiesta-EK-traffic.webgateway',\n",
       " '2014-08-15-Magnitude-EK-traffic-first-run.webgateway',\n",
       " '2014-08-16-Angler-EK-traffic.webgateway',\n",
       " '2014-08-17-Nuclear-EK-traffic.webgateway',\n",
       " '2014-08-18-Sweet-Orange-EK-first-run.webgateway',\n",
       " '2014-08-18-Sweet-Orange-EK-second-run.webgateway',\n",
       " '2014-08-19-Fiesta-EK-traffic.webgateway',\n",
       " '2014-08-20-Sweet-Orange-EK-traffic.webgateway',\n",
       " '2014-08-21-FlashPack-EK-traffic-first-run.webgateway',\n",
       " '2014-08-21-Sweet-Orange-EK-traffic.webgateway',\n",
       " '2014-08-22-Fiesta-EK-traffic.webgateway',\n",
       " '2014-08-22-Nuclear-EK-traffic.webgateway',\n",
       " '2014-08-24-Fiesta-EK-with-post-infection-traffic.webgateway',\n",
       " '2014-08-25-Nuclear-EK-traffic.webgateway',\n",
       " '2014-08-26-Fiesta-EK-traffic.webgateway',\n",
       " '2014-08-27-Sweet-Orange-EK-traffic.webgateway',\n",
       " '2014-08-28-Nuclear-EK-traffic.webgateway',\n",
       " '2014-08-29-Sweet-Orange-EK-traffic.webgateway',\n",
       " '2014-08-30-FlashPack-EK-traffic.webgateway',\n",
       " '2014-08-31-Fiesta-EK-traffic.webgateway',\n",
       " '2014-09-01-Rig-EK-traffic.webgateway',\n",
       " '2014-09-03-Nuclear-EK-traffic.webgateway',\n",
       " '2014-09-04-Nuclear-EK-traffic.webgateway',\n",
       " '2014-09-04-Sweet-Orange-EK-traffic.webgateway',\n",
       " '2014-09-05-Sweet-Orange-EK-traffic.webgateway',\n",
       " '2014-09-06-Rig-EK-traffic.webgateway',\n",
       " '2014-09-08-Angler-EK-traffic.webgateway',\n",
       " '2014-09-08-Nuclear-EK-traffic.webgateway',\n",
       " '2014-09-09-Rig-EK-traffic.webgateway',\n",
       " '2014-09-10-Magnitude-EK-traffic.webgateway',\n",
       " '2014-09-11-Sweet-Orange-EK-traffic.webgateway',\n",
       " '2014-09-12-Nuclear-EK-traffic.webgateway',\n",
       " '2014-09-15-Fiesta-EK-traffic.webgateway',\n",
       " '2014-09-16-Angler-EK-traffic.webgateway',\n",
       " '2014-09-16-Nuclear-EK-traffic.webgateway',\n",
       " '2014-09-18-Fiesta-EK-traffic.webgateway',\n",
       " '2014-09-19-Sweet-Orange-EK-traffic.webgateway',\n",
       " '2014-09-21-Nuclear-EK-traffic.webgateway',\n",
       " '2014-09-22-Angler-EK-traffic.webgateway',\n",
       " '2014-09-23-Rig-EK-traffic.webgateway',\n",
       " '2014-09-25-Sweet-Orange-EK-traffic.webgateway',\n",
       " '2014-09-26-Angler-EK-traffic.webgateway',\n",
       " '2014-09-27-Angler-EK-traffic.webgateway',\n",
       " '2014-09-30-Fiesta-EK-traffic.webgateway',\n",
       " '2014-10-01-Angler-EK-traffic.webgateway',\n",
       " '2014-10-02-Angler-EK-traffic.webgateway',\n",
       " '2014-10-03-Sweet-Orange-EK-traffic.webgateway',\n",
       " '2014-10-04-Rig-EK-and-Upatre-traffic.webgateway',\n",
       " '2014-10-05-Rig-EK-traffic.webgateway',\n",
       " '2014-10-06-Angler-EK-traffic.webgateway',\n",
       " '2014-10-26-Fiesta-EK-traffic.webgateway',\n",
       " '2014-10-27-Sweet-Orange-EK-traffic.webgateway',\n",
       " '2014-10-30-FlashPack-EK-traffic.webgateway',\n",
       " '2014-11-01-Fiesta-EK-traffic.webgateway',\n",
       " '2014-11-02-Angler-EK-traffic.webgateway',\n",
       " '2014-11-06-Nuclear-EK-traffic.webgateway',\n",
       " '2014-11-10-Angler-EK-traffic.webgateway',\n",
       " '2014-11-11-Angler-EK-traffic-only.webgateway',\n",
       " '2014-11-13-Fiesta-EK-traffic.webgateway',\n",
       " '2014-11-14-Angler-EK-traffic.webgateway',\n",
       " '2014-11-15-Angler-EK-traffic.webgateway',\n",
       " '2014-11-15-Rig-EK-traffic.webgateway',\n",
       " '2014-11-18-Sweet-Orange-EK-traffic.webgateway',\n",
       " '2014-11-19-Fiesta-EK-traffic-on-physical-host.webgateway',\n",
       " '2014-11-29-Neutrino-EK-traffic-first-run.webgateway',\n",
       " '2014-11-30-Gondad-EK-traffic.webgateway',\n",
       " '2014-12-05-phishing-email-traffic.webgateway',\n",
       " '2014-12-07-Neutrino-EK-traffic.webgateway',\n",
       " '2014-12-10-Nuclear-EK-traffic.webgateway',\n",
       " '2014-12-12-Nuclear-EK-traffic.webgateway',\n",
       " '2014-12-13-Gondad-EK-infection-traffic.webgateway',\n",
       " '2014-12-15-Nuclear-EK-traffic.webgateway',\n",
       " '2014-12-17-Fiesta-EK-traffic.webgateway',\n",
       " '2014-12-18-Nuclear-EK-traffic.webgateway',\n",
       " '2014-12-25-Nuclear-EK-from-Windigo-group-traffic.webgateway',\n",
       " '2015-01-01-Windigo-group-Nuclear-EK-traffic.webgateway',\n",
       " '2015-01-03-KaiXin-EK-traffic.webgateway',\n",
       " '2015-01-18-Nuclear-EK-traffic.webgateway',\n",
       " '2015-01-21-Angler-EK-traffic.webgateway',\n",
       " '2015-01-23-Nuclear-EK-and-vawtrak-traffic.webgateway',\n",
       " '2015-01-26-Neutrino-EK-traffic.webgateway',\n",
       " '2015-01-29-Nuclear-EK-traffic.webgateway',\n",
       " '2015-01-30-Angler-EK-traffic.webgateway',\n",
       " '2015-02-04-Nuclear-EK-traffic.webgateway',\n",
       " '2015-02-05-Rig-EK-traffic.webgateway',\n",
       " '2015-02-09-Angler-EK-traffic.webgateway',\n",
       " '2015-02-09-Sweet-Orange-EK-traffic.webgateway',\n",
       " '2015-02-11-Windigo-Group-Nuclear-EK-traffic-example-01.webgateway',\n",
       " '2015-02-23-Sweet-Orange-EK-traffic.webgateway',\n",
       " '2015-03-01-Magnitude-EK-initial-infection.webgateway',\n",
       " '2015-03-16-Nuclear-EK-from-threatglass-stripped-down-traffic.webgateway',\n",
       " '2015-03-23-Angler-EK-with-post-infection-traffic.webgateway',\n",
       " '2015-04-03-Nuclear-EK-traffic.webgateway',\n",
       " '2015-04-30-Angler-EK-delivers-alpha-crypt.webgateway',\n",
       " '2015-06-08-Angler-EK-sends-Vawtrak.webgateway',\n",
       " '2015-06-09-Angler-EK-sends-CryptoWall-3.0-first-run.webgateway',\n",
       " '2015-06-09-Angler-EK-sends-CryptoWall-3.0-second-run.webgateway',\n",
       " '2015-06-09-malspam-sends-CryptoWall-3.0-traffic.webgateway',\n",
       " '2015-06-12-Angler-EK-traffic.webgateway',\n",
       " '2015-06-12-Nuclear-EK-traffic.webgateway',\n",
       " '2015-06-15-Angler-EK-traffic.webgateway',\n",
       " '2015-06-17-Angler-EK-and-CryptoWall-3.0-traffic.webgateway',\n",
       " '2015-07-02-Fiesta-EK-traffic.webgateway',\n",
       " '2015-07-03-Angler-EK-sends-CryptoWall-3.0-traffic.webgateway',\n",
       " '2015-07-03-BizCN-gate-actor-Nuclear-EK-traffic-example-1.webgateway',\n",
       " '2015-07-03-BizCN-gate-actor-Nuclear-EK-traffic-example-2.webgateway',\n",
       " '2015-07-03-BizCN-gate-actor-Nuclear-EK-traffic-example-3.webgateway',\n",
       " '2015-07-04-BizCN-gate-actor-Nuclear-EK-traffic-example-1.webgateway',\n",
       " '2015-07-04-BizCN-gate-actor-Nuclear-EK-traffic-example-2.webgateway',\n",
       " '2015-07-04-BizCN-gate-actor-Nuclear-EK-traffic-example-3.webgateway',\n",
       " '2015-07-05-Angler-EK-sends-CryptoWall-3.0-traffic.webgateway',\n",
       " '2015-07-05-BizCN-gate-actor-Nuclear-EK-traffic-example-1.webgateway',\n",
       " '2015-07-05-BizCN-gate-actor-Nuclear-EK-traffic-example-2.webgateway',\n",
       " '2015-07-05-BizCN-gate-actor-Nuclear-EK-traffic-example-3.webgateway',\n",
       " '2015-07-05-BizCN-gate-actor-Nuclear-EK-traffic-example-4.webgateway',\n",
       " '2015-07-06-Angler-EK-sends-Bedep.webgateway',\n",
       " '2015-07-06-Angler-EK-sends-CryptoWall-3.0.webgateway',\n",
       " '2015-07-07-BizCN-gate-actor-Nuclear-EK-traffic.webgateway',\n",
       " '2015-07-08-Angler-EK-sends-CryptoWall-3.0-example-1-of-2.webgateway',\n",
       " '2015-07-08-Angler-EK-sends-CryptoWall-3.0-example-2-of-2.webgateway',\n",
       " '2015-07-08-BizCN-gate-actor-Nuclear-EK-traffic-example-1-of-2.webgateway',\n",
       " '2015-07-08-BizCN-gate-actor-Nuclear-EK-traffic-example-2-of-2.webgateway',\n",
       " '2015-07-08-Neutrino-EK-traffic.webgateway',\n",
       " '2015-07-09-Angler-EK-sends-Bedep.webgateway',\n",
       " '2015-07-09-Angler-EK-sends-CryptoWall-3.0.webgateway',\n",
       " '2015-07-09-BizCN-gate-actor-Nuclear-EK-example-1-of-4.webgateway',\n",
       " '2015-07-09-BizCN-gate-actor-Nuclear-EK-example-2-of-4.webgateway',\n",
       " '2015-07-09-BizCN-gate-actor-Nuclear-EK-example-3-of-4.webgateway',\n",
       " '2015-07-09-BizCN-gate-actor-Nuclear-EK-example-4-of-4.webgateway',\n",
       " '2015-07-09-Neutrino-EK-traffic.webgateway',\n",
       " '2015-07-10-Angler-EK-sends-CrytoWall-3.0-traffic.webgateway',\n",
       " '2015-07-10-Neutrino-EK-traffic.webgateway',\n",
       " '2015-07-13-Angler-EK-sends-CryptoWall-3.0-example-1-of-3.webgateway',\n",
       " '2015-07-13-Angler-EK-sends-CryptoWall-3.0-example-2-of-3.webgateway',\n",
       " '2015-07-13-Angler-EK-sends-CryptoWall-3.0-example-3-of-3.webgateway',\n",
       " '2015-07-13-BizCN-gate-actor-Nuclear-EK-traffic-example-1-of-2.webgateway',\n",
       " '2015-07-13-BizCN-gate-actor-Nuclear-EK-traffic-example-2-of-2.webgateway',\n",
       " '2015-07-14-Angler-EK-traffic-1-of-2-bedep.webgateway',\n",
       " '2015-07-14-Angler-EK-traffic-2-of-2-CryptoWall-3.0.webgateway',\n",
       " '2015-07-14-BizCN-gate-actor-Nuclear-EK-traffic.webgateway',\n",
       " '2015-07-15-Angler-EK-sends-CryptoWall-3.0.webgateway',\n",
       " '2015-07-15-BizCN-gate-actor-Nuclear-EK-traffic-example-1-of-2.webgateway',\n",
       " '2015-07-15-BizCN-gate-actor-Nuclear-EK-traffic-example-2-of-2.webgateway',\n",
       " '2015-07-16-Angler-EK-sends-CryptoWall-3.0-example-1-of-2.webgateway',\n",
       " '2015-07-16-Angler-EK-sends-CryptoWall-3.0-example-2-of-2.webgateway',\n",
       " '2015-07-16-BizCN-gate-actor-Nuclear-EK-example-1-of-2.webgateway',\n",
       " '2015-07-16-BizCN-gate-actor-Nuclear-EK-example-2-of-2.webgateway',\n",
       " '2015-07-16-Neutrino-EK-traffic.webgateway',\n",
       " '2015-07-16-Rig-EK-traffic.webgateway',\n",
       " '2015-07-17-Angler-EK-traffic-example-1-of-2.webgateway',\n",
       " '2015-07-17-Angler-EK-traffic-example-2-of-2.webgateway',\n",
       " '2015-07-17-BizCN-gate-actor-Nuclear-EK-traffic.webgateway',\n",
       " '2015-07-17-Magnitude-EK-traffic-example-1-of-3.webgateway',\n",
       " '2015-07-17-Magnitude-EK-traffic-example-2-of-3.webgateway',\n",
       " '2015-07-17-Magnitude-EK-traffic-example-3-of-3.webgateway',\n",
       " '2015-07-20-Nuclear-EK-sends-TeslaCrypt-2.0-traffic.webgateway',\n",
       " '2015-07-22-BizCN-gate-actor-Nuclear-EK-traffic.webgateway',\n",
       " '2015-07-22-Operation-Windigo-Nuclear-EK-traffic.webgateway',\n",
       " '2015-07-22-other-Nuclear-EK-traffic.webgateway',\n",
       " '2015-07-23-Angler-EK-sends-CryptoWall-3.0-traffic.webgateway',\n",
       " '2015-07-27-Angler-EK-sends-CryptoWall-3.0-traffic.webgateway',\n",
       " '2015-07-31-Angler-EK-and-CryptoWall-3.0.webgateway',\n",
       " '2015-07-31-Angler-EK.webgateway']"
      ]
     },
     "execution_count": 4,
     "metadata": {},
     "output_type": "execute_result"
    }
   ],
   "source": [
    "import os\n",
    "data_dir='../../../exploitData/'\n",
    "os.listdir(data_dir)"
   ]
  },
  {
   "cell_type": "code",
   "execution_count": 7,
   "metadata": {},
   "outputs": [],
   "source": [
    "def get_exploit_data():\n",
    "    docs=os.listdir(data_dir)\n",
    "    dfs=[]\n",
    "    for doc in docs:\n",
    "        if re.search(r'webgateway$',doc):\n",
    "            doc_add=data_dir+doc\n",
    "            f=open(doc_add)\n",
    "\n",
    "            data =[]\n",
    "            for x in f:\n",
    "                data.append(x)\n",
    "            f.close()\n",
    "\n",
    "            exploit=pd.DataFrame(data)\n",
    "            exploit.columns=['user_agent']\n",
    "            exploit['source']=doc\n",
    "            dfs.append(exploit)\n",
    "        \n",
    "    exploit_df=pd.concat(dfs,axis=0)\n",
    "    \n",
    "    return exploit_df     \n",
    "\n",
    "exploit=get_exploit_data()"
   ]
  },
  {
   "cell_type": "code",
   "execution_count": 8,
   "metadata": {},
   "outputs": [],
   "source": [
    "exploit=exploit.reset_index().drop(['index'],axis=1)"
   ]
  },
  {
   "cell_type": "code",
   "execution_count": null,
   "metadata": {
    "scrolled": true
   },
   "outputs": [],
   "source": [
    "exploit['predictions']=exploit['user_agent'].apply(lambda x: predict(x,clf,train_columns,train_columns_order))"
   ]
  },
  {
   "cell_type": "code",
   "execution_count": 43,
   "metadata": {},
   "outputs": [],
   "source": [
    "result=exploit['predictions'].dropna().apply(lambda x: x[0])"
   ]
  },
  {
   "cell_type": "code",
   "execution_count": 49,
   "metadata": {},
   "outputs": [
    {
     "data": {
      "image/png": "[encoded data removed]",
      "text/plain": [
       "<Figure size 432x288 with 1 Axes>"
      ]
     },
     "metadata": {
      "needs_background": "light"
     },
     "output_type": "display_data"
    }
   ],
   "source": [
    "#Plotting results\n",
    "ax=sns.countplot(result)\n",
    "for p in ax.patches:\n",
    "    ax.annotate('{:}'.format(p.get_height()), (p.get_x()+0.15, p.get_height()+1))"
   ]
  },
  {
   "cell_type": "code",
   "execution_count": 50,
   "metadata": {},
   "outputs": [
    {
     "data": {
      "text/plain": [
       "0.027552303646964673"
      ]
     },
     "execution_count": 50,
     "metadata": {},
     "output_type": "execute_result"
    }
   ],
   "source": [
    "241/(8506+241)"
   ]
  },
  {
   "cell_type": "markdown",
   "metadata": {},
   "source": [
    "### 2.8% of exploit folder are classed as anomalies by the model"
   ]
  },
  {
   "cell_type": "code",
   "execution_count": null,
   "metadata": {},
   "outputs": [],
   "source": []
  }
 ],
 "metadata": {
  "kernelspec": {
   "display_name": "Python 3",
   "language": "python",
   "name": "python3"
  },
  "language_info": {
   "codemirror_mode": {
    "name": "ipython",
    "version": 3
   },
   "file_extension": ".py",
   "mimetype": "text/x-python",
   "name": "python",
   "nbconvert_exporter": "python",
   "pygments_lexer": "ipython3",
   "version": "3.7.6"
  }
 },
 "nbformat": 4,
 "nbformat_minor": 2
}
